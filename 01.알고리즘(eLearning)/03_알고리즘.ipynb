{
 "cells": [
  {
   "cell_type": "markdown",
   "source": [
    "# 최적의 코딩을 결정하는 기본 알고리즘"
   ],
   "metadata": {}
  },
  {
   "cell_type": "markdown",
   "source": [
    "## 서로소 집합"
   ],
   "metadata": {}
  },
  {
   "cell_type": "markdown",
   "source": [
    "- 서로소 집합(Disjoint Sets): 공통 원소가 없는 두 집합을 의미\r\n",
    "- 서로소 집합 자료구조\r\n",
    "    - 서로소 부분 집합들로 나우어진 원소들의 데이터를 처리하기 위한 자료구조\r\n",
    "    - 서로소 집합 자료구조는 두 종류의 연산을 지원\r\n",
    "        - 합집합(Union) : 두 개의 원소가 포함된 집합을 하나의 집합으로 합치는 연산\r\n",
    "        - 찾기(Find) : 특정한 원소가 속한 집합이 어떤 집합인지 알려주는 연산\r\n",
    "    - 서로소 집합 자료구조는 **합치기 찾기(Union Find) 자료구조**라고 불리기도 한다.<br><br>\r\n",
    "    - 여러 개의 합치기 연산이 주어졌을 때 서로소 자료 집합구조의 동작 과정\r\n",
    "        1. 합집합 연산을 확인하여, 서로 연결된 두 노드 A, B를 확인\r\n",
    "            - A와 B의 루트 노드 A', B'를 각각 찾고 A'를 B'의 부모 노드로 설정\r\n",
    "        2. 모든 합집합 연산을 처리할 때까지 1번의 과정 반복\r\n",
    "    - **연결성**을 통해 손쉽게 집합의 형태를 확인할 수 있다."
   ],
   "metadata": {}
  },
  {
   "cell_type": "code",
   "execution_count": null,
   "source": [
    "# 특정 원소가 속한 집합을 찾기\r\n",
    "def find_parent(parent, x):\r\n",
    "    # 루트 노드가 아니라면, 루트 노드를 찾을 때까지 재귀적으로 호출\r\n",
    "    if parent[x] != x:\r\n",
    "        return find_parent(parent, parent[x])\r\n",
    "    return x\r\n",
    "\r\n",
    "# 두 원소가 속한 집합을 합치기\r\n",
    "def union_parent(parent, a, b):\r\n",
    "    a = find_parent(parent, a)\r\n",
    "    b = find_parent(parent, b)\r\n",
    "    if a < b:\r\n",
    "        parent[b] = a\r\n",
    "    else:\r\n",
    "        parent[a] = b\r\n",
    "\r\n",
    "# 노드의 개수와 간선(Union 연산)의 개수 입력 받기\r\n",
    "v, e = map(int, input().split())\r\n",
    "parent = [0] * (v + 1) # 부모 테이블 초기화하기\r\n",
    "\r\n",
    "# 부모 테이블상에서, 부모를 자기 자신으로 초기화\r\n",
    "for i in range(1, v + 1):\r\n",
    "    parent[i] = i\r\n",
    "\r\n",
    "# Union 연산을 각각 수행\r\n",
    "for i in range(e):\r\n",
    "    a, b = map(int, input().split())\r\n",
    "    union_parent(parent, a, b)\r\n",
    "\r\n",
    "# 각 원소가 속한 집합 출력하기\r\n",
    "print('각 원소가 속한 집합: ', end='')\r\n",
    "for i in range(1, v + 1):\r\n",
    "    print(find_parent(parent, i), end=' ')\r\n",
    "\r\n",
    "print()\r\n",
    "\r\n",
    "# 부모 테이블 내용 출력하기\r\n",
    "print('부모 테이블: ', end='')\r\n",
    "for i in range(1, v + 1):\r\n",
    "    print(parent[i], end=' ')"
   ],
   "outputs": [],
   "metadata": {}
  }
 ],
 "metadata": {
  "orig_nbformat": 4,
  "language_info": {
   "name": "python"
  }
 },
 "nbformat": 4,
 "nbformat_minor": 2
}