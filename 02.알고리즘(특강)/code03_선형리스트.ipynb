{
 "cells": [
  {
   "cell_type": "markdown",
   "source": [
    "# 선형 리스트"
   ],
   "metadata": {}
  },
  {
   "cell_type": "markdown",
   "source": [
    "## 01. 선형리스트의 개념\r\n",
    "- 데이터를 일정한 **순서**로 나열한 자료구조\r\n",
    "- 순차 리스트(Ordered List)\r\n",
    "- 입력 순서대로 저장하는 데이터에 적당\r\n",
    "- 물리적으로 연속적"
   ],
   "metadata": {}
  },
  {
   "cell_type": "markdown",
   "source": [
    "## 02. 선형 리스트의 구현"
   ],
   "metadata": {}
  },
  {
   "cell_type": "markdown",
   "source": [
    "- 데이터 삽입 : 끝에 삽입"
   ],
   "metadata": {}
  },
  {
   "cell_type": "code",
   "execution_count": 8,
   "source": [
    "# 카톡으로 연락 온 친구를 배열을 이용하여 표현\r\n",
    "katok = [] # 빈 배열\r\n",
    "\r\n",
    "def add_data(friend): # 새 친구 추가 함수\r\n",
    "    katok.append(None) # 빈칸 추가\r\n",
    "    kLen = len(katok) # 전체 길이 \r\n",
    "    katok[kLen-1] = friend # 마지막 칸에 친구 추가"
   ],
   "outputs": [],
   "metadata": {}
  },
  {
   "cell_type": "code",
   "execution_count": 9,
   "source": [
    "add_data('다현')\r\n",
    "add_data('정연')\r\n",
    "add_data('쯔위')\r\n",
    "add_data('사나')\r\n",
    "add_data('지효')\r\n",
    "print(katok)"
   ],
   "outputs": [
    {
     "output_type": "stream",
     "name": "stdout",
     "text": [
      "['다현', '정연', '쯔위', '사나', '지효']\n"
     ]
    }
   ],
   "metadata": {}
  },
  {
   "cell_type": "markdown",
   "source": [
    "- 데이터 삽입 : 중간 데이터 삽입"
   ],
   "metadata": {}
  },
  {
   "cell_type": "code",
   "execution_count": 7,
   "source": [
    "def insert_data(position, friend): # 삽입 함수\r\n",
    "    katok.append(None) # 1단계 : 빈칸 확보\r\n",
    "    kLen = len(katok)\r\n",
    "    for i in range(kLen-1, position, -1): # 2단계 : 자리 이동(뒤로)\r\n",
    "        katok[i] = katok[i-1]\r\n",
    "        katok[i-1] = None\r\n",
    "    katok[position] = friend"
   ],
   "outputs": [],
   "metadata": {}
  },
  {
   "cell_type": "code",
   "execution_count": 10,
   "source": [
    "insert_data(2, '솔라') # 3단계 : 데이터 삽입\r\n",
    "print(katok)\r\n",
    "insert_data(6, '문별')\r\n",
    "print(katok)"
   ],
   "outputs": [
    {
     "output_type": "stream",
     "name": "stdout",
     "text": [
      "['다현', '정연', '솔라', '쯔위', '사나', '지효']\n",
      "['다현', '정연', '솔라', '쯔위', '사나', '지효', '문별']\n"
     ]
    }
   ],
   "metadata": {}
  },
  {
   "cell_type": "markdown",
   "source": [
    "- 데이터 삭제 : 중간 삭제"
   ],
   "metadata": {}
  },
  {
   "cell_type": "code",
   "execution_count": 12,
   "source": [
    "def delete_data(position): # 삭제 함수\r\n",
    "    kLen = len(katok)\r\n",
    "    katok[position] = None # 1단계 : 데이터 삭제\r\n",
    "\r\n",
    "    for i in range(position+1, kLen): # 2단계 : 자리 이동(앞으로)\r\n",
    "        katok[i-1] = katok[i]\r\n",
    "        katok[i] = None\r\n",
    "\r\n",
    "    del katok[kLen-1] # 3단계 : 마지막 빈칸 제거"
   ],
   "outputs": [],
   "metadata": {}
  },
  {
   "cell_type": "code",
   "execution_count": 13,
   "source": [
    "delete_data(1)\r\n",
    "print(katok)\r\n",
    "delete_data(5)\r\n",
    "print(katok)"
   ],
   "outputs": [
    {
     "output_type": "stream",
     "name": "stdout",
     "text": [
      "['다현', '솔라', '쯔위', '사나', '지효', '문별']\n",
      "['다현', '솔라', '쯔위', '사나', '지효']\n"
     ]
    }
   ],
   "metadata": {}
  },
  {
   "cell_type": "markdown",
   "source": [
    "- 기본 선형 리스트의 완성"
   ],
   "metadata": {}
  },
  {
   "cell_type": "code",
   "execution_count": 21,
   "source": [
    "## 함수 선언부 \r\n",
    "# 리스트 변수는 mutable한 객체이므로 함수 안에서 전역변수 선언을 하지 않아도 값을 바꿀 수 있다.\r\n",
    "def add_data(friend): # 추가 함수\r\n",
    "    katok.append(None) # 빈칸 추가\r\n",
    "    kLen = len(katok) # 전체 길이 \r\n",
    "    katok[kLen-1] = friend # 마지막 칸에 친구 추가\r\n",
    "\r\n",
    "def insert_data(position, friend): # 삽입 함수\r\n",
    "    katok.append(None) # 1단계 : 빈칸 확보\r\n",
    "    kLen = len(katok)\r\n",
    "    for i in range(kLen-1, position, -1): # 2단계 : 자리 이동\r\n",
    "        katok[i] = katok[i-1]\r\n",
    "        katok[i-1] = None\r\n",
    "    katok[position] = friend\r\n",
    "\r\n",
    "def delete_data(position): # 삭제 함수\r\n",
    "    kLen = len(katok)\r\n",
    "    katok[position] = None # 1단계 : 데이터 삭제\r\n",
    "\r\n",
    "    for i in range(position+1, kLen): # 2단계 : 자리 이동(앞으로)\r\n",
    "        katok[i-1] = katok[i]\r\n",
    "        katok[i] = None\r\n",
    "\r\n",
    "    del katok[kLen-1] # 3단계 : 마지막 빈칸 제거\r\n",
    "\r\n",
    "## 전역 변수부\r\n",
    "katok = []\r\n",
    "select = -1 # 1추가 2삽입 3삭제 4종료\r\n",
    "\r\n",
    "## 메인 코드부\r\n",
    "while (select != 4):\r\n",
    "    select = int(input('1추가 2삽입 3삭제 4종료--> '))\r\n",
    "\r\n",
    "    if select == 1:\r\n",
    "        friend = input('추가할 카톡 친구이름을 입력하세요: ')\r\n",
    "        add_data(friend) # 추가 작동\r\n",
    "        print(katok)\r\n",
    "    elif select == 2:\r\n",
    "        position = int(input('삽입할 위치를 입력하세요: '))\r\n",
    "        friend = input('삽입할 카톡 친구이름을 입력하세요: ')\r\n",
    "        insert_data(position, friend) # 삽입 작동\r\n",
    "        print(katok)\r\n",
    "    elif select == 3:\r\n",
    "        position = int(input('삭제할 위치를 입력하세요: ')) # 삭제 작동\r\n",
    "        delete_data(position)\r\n",
    "        print(katok)\r\n",
    "    elif select == 4:\r\n",
    "        print(katok)\r\n",
    "        break # exit도 가능\r\n",
    "    else:\r\n",
    "        print('1~4중 하나를 입력하세요: ')\r\n",
    "        continue"
   ],
   "outputs": [
    {
     "output_type": "stream",
     "name": "stdout",
     "text": [
      "['정연']\n",
      "[]\n",
      "['정연']\n",
      "['정연', '미나']\n",
      "['정연', '다현', '미나']\n",
      "['다현', '미나']\n",
      "['다현', '미나']\n"
     ]
    }
   ],
   "metadata": {}
  }
 ],
 "metadata": {
  "orig_nbformat": 4,
  "language_info": {
   "name": "python",
   "version": "3.8.10",
   "mimetype": "text/x-python",
   "codemirror_mode": {
    "name": "ipython",
    "version": 3
   },
   "pygments_lexer": "ipython3",
   "nbconvert_exporter": "python",
   "file_extension": ".py"
  },
  "kernelspec": {
   "name": "python3",
   "display_name": "Python 3.8.10 64-bit ('base': conda)"
  },
  "interpreter": {
   "hash": "d279b99af0f33638fdf09218aa92c162172468f9a92e33e126428ac8a4b3671e"
  }
 },
 "nbformat": 4,
 "nbformat_minor": 2
}