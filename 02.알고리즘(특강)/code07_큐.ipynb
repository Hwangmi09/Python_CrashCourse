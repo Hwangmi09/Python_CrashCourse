{
 "cells": [
  {
   "cell_type": "markdown",
   "source": [
    "# 큐(Queue)"
   ],
   "metadata": {}
  },
  {
   "cell_type": "markdown",
   "source": [
    "## 01. 큐의 개념\r\n",
    "- 입구와 출구가 따로 있는 원통 형태\r\n",
    "- First In First Out(FIFO, 선입선출, 후입후출)"
   ],
   "metadata": {}
  },
  {
   "cell_type": "markdown",
   "source": [
    "## 02. 큐의 기본 구조\r\n",
    "- 큐에 데이터를 삽입하는 작동 : enQueue(인큐)\r\n",
    "- 데이터를 추출하는 작동 : deQueue(데큐)\r\n",
    "- 저장된 데이터 중 첫 번째 데이터 : front(머리)\r\n",
    "- 저장된 데이터 중 마지막 데이터 : rear(꼬리)"
   ],
   "metadata": {}
  },
  {
   "cell_type": "markdown",
   "source": [
    "## 03. 큐의 구현"
   ],
   "metadata": {}
  },
  {
   "cell_type": "markdown",
   "source": [
    "- 데이터 삽입(enQueue)"
   ],
   "metadata": {}
  },
  {
   "cell_type": "code",
   "execution_count": 13,
   "source": [
    "SIZE = 5\r\n",
    "queue = [None for _ in range(SIZE)]\r\n",
    "front = rear = -1 # 큐가 빈 상태\r\n",
    "\r\n",
    "rear += 1 # 큐에 데이터를 삽입할 때는 꼬리에 넣기!\r\n",
    "queue[rear] = '화사'\r\n",
    "rear += 1\r\n",
    "queue[rear] = '솔라'\r\n",
    "rear += 1\r\n",
    "queue[rear] = '문별'\r\n",
    "\r\n",
    "print('<--', queue, '<--')"
   ],
   "outputs": [
    {
     "output_type": "stream",
     "name": "stdout",
     "text": [
      "<-- ['화사', '솔라', '문별', None, None] <--\n"
     ]
    }
   ],
   "metadata": {}
  },
  {
   "cell_type": "markdown",
   "source": [
    "- 데이터 추출(deQueue)"
   ],
   "metadata": {}
  },
  {
   "cell_type": "code",
   "execution_count": 14,
   "source": [
    "front += 1\r\n",
    "data = queue[front]\r\n",
    "queue[front] = None\r\n",
    "print('입장 손님> ', data)\r\n",
    "front += 1\r\n",
    "data = queue[front]\r\n",
    "queue[front] = None\r\n",
    "print('입장 손님> ', data)\r\n",
    "front += 1\r\n",
    "data = queue[front]\r\n",
    "queue[front] = None\r\n",
    "print('입장 손님> ', data)\r\n",
    "\r\n",
    "print('<--', queue, '<--')"
   ],
   "outputs": [
    {
     "output_type": "stream",
     "name": "stdout",
     "text": [
      "입장 손님>  화사\n",
      "입장 손님>  솔라\n",
      "입장 손님>  문별\n",
      "<-- [None, None, None, None, None] <--\n"
     ]
    }
   ],
   "metadata": {}
  },
  {
   "cell_type": "markdown",
   "source": [
    "- 큐의 완성"
   ],
   "metadata": {}
  },
  {
   "cell_type": "code",
   "execution_count": 38,
   "source": [
    "## 함수 선언부\r\n",
    "# def isQueueFull(): \r\n",
    "#     global SIZE, queue, front, rear\r\n",
    "#     if rear == SIZE -1: # rear >= SIZE -1\r\n",
    "#         return True\r\n",
    "#     else:\r\n",
    "#         return False\r\n",
    "\r\n",
    "\r\n",
    "def isQueueFull():\r\n",
    "    global SIZE, queue, front, rear\r\n",
    "    if rear != SIZE-1 :\r\n",
    "        return False\r\n",
    "    elif rear == SIZE-1 and front == -1: # Queue가 꽉 찬 경우\r\n",
    "        return True\r\n",
    "    else:\r\n",
    "        for i in range(front+1, SIZE): # Queue의 앞 부분이 비어있는 경우\r\n",
    "            queue[i-1] = queue[i]\r\n",
    "            queue[i] = None\r\n",
    "        front -= 1\r\n",
    "        rear -= 1\r\n",
    "        return False\r\n",
    "\r\n",
    "def isQueueEmpty():\r\n",
    "    global SIZE, queue, front, rear\r\n",
    "    if front == rear:\r\n",
    "        return True\r\n",
    "    else:\r\n",
    "        return False\r\n",
    "\r\n",
    "def enQueue(data):\r\n",
    "    global SIZE, queue, front, rear\r\n",
    "    if isQueueFull():\r\n",
    "        print('큐가 꽉 찼습니다.')\r\n",
    "        return\r\n",
    "    else:\r\n",
    "        rear += 1\r\n",
    "        queue[rear] = data\r\n",
    "\r\n",
    "def deQueue():\r\n",
    "    global SIZE, queue, front, rear\r\n",
    "    if isQueueEmpty():\r\n",
    "        print('큐가 비었습니다.')\r\n",
    "        return None\r\n",
    "    front += 1\r\n",
    "    data = queue[front]\r\n",
    "    queue[front] = None\r\n",
    "    return data\r\n",
    "\r\n",
    "\r\n",
    "## 전역 변수부\r\n",
    "SIZE = 5\r\n",
    "queue = [None for _ in range(SIZE)]\r\n",
    "front = rear = -1 # 큐가 빈 상태\r\n",
    "\r\n",
    "## 메인 코드부\r\n",
    "# queue = ['커피', '녹차', '꿀물', '환타', '게토']\r\n",
    "# front = -1\r\n",
    "# rear = 4\r\n",
    "\r\n",
    "enQueue('화사')\r\n",
    "enQueue('솔라')\r\n",
    "enQueue('문별')\r\n",
    "enQueue('휘인')\r\n",
    "enQueue('선미')\r\n",
    "# enQueue('재남')\r\n",
    "print('<--', queue, '<--')\r\n",
    "\r\n",
    "data = deQueue() ; print('디큐 : ', data)\r\n",
    "data = deQueue() ; print('디큐 : ', data)\r\n",
    "# data = deQueue() ; print('디큐 : ', data)\r\n",
    "# data = deQueue() ; print('디큐 : ', data)\r\n",
    "print('<--', queue, '<--')\r\n",
    "enQueue('재남')\r\n",
    "print('<--', queue, '<--')\r\n",
    "enQueue('강아지')\r\n",
    "print('<--', queue, '<--')\r\n",
    "enQueue('고양이')\r\n",
    "print('<--', queue, '<--')"
   ],
   "outputs": [
    {
     "output_type": "stream",
     "name": "stdout",
     "text": [
      "<-- ['화사', '솔라', '문별', '휘인', '선미'] <--\n",
      "디큐 :  화사\n",
      "디큐 :  솔라\n",
      "<-- [None, None, '문별', '휘인', '선미'] <--\n",
      "<-- [None, '문별', '휘인', '선미', '재남'] <--\n",
      "<-- ['문별', '휘인', '선미', '재남', '강아지'] <--\n",
      "큐가 꽉 찼습니다.\n",
      "<-- ['문별', '휘인', '선미', '재남', '강아지'] <--\n"
     ]
    }
   ],
   "metadata": {}
  },
  {
   "cell_type": "markdown",
   "source": [
    "## 04. 큐의 응용 - 원형 큐\r\n",
    "- 순차 큐는 데이터가 많아지는 경우 오버헤드가 발생(한계)\r\n",
    "- 순차 큐의 오버헤드를 극복하기 위한 대안 : 원형 큐"
   ],
   "metadata": {}
  },
  {
   "cell_type": "markdown",
   "source": [
    "- 원형 큐의 기본 구조\r\n",
    "    - 큐의 처음과 끝이 연결된 구조\r\n",
    "    - 초기값 : front와 rear가 모두 0\r\n",
    "    - 원형 큐가 빈 경우 : front와 rear가 같은 경우\r\n",
    "    - 원형 큐가 꽉 찬 경우 : front가 (rear+1)%SIZE가 같은 경우"
   ],
   "metadata": {}
  },
  {
   "cell_type": "code",
   "execution_count": 42,
   "source": [
    "## 함수 선언부\r\n",
    "def isQueueFull(): \r\n",
    "    global SIZE, queue, front, rear\r\n",
    "    if front == (rear + 1) % SIZE:\r\n",
    "        return True\r\n",
    "    else:\r\n",
    "        return False\r\n",
    "\r\n",
    "def isQueueEmpty():\r\n",
    "    global SIZE, queue, front, rear\r\n",
    "    if front == rear:\r\n",
    "        return True\r\n",
    "    else:\r\n",
    "        return False\r\n",
    "\r\n",
    "def enQueue(data):\r\n",
    "    global SIZE, queue, front, rear\r\n",
    "    if isQueueFull():\r\n",
    "        print('큐가 꽉 찼습니다.')\r\n",
    "        return\r\n",
    "    else:\r\n",
    "        rear = (rear + 1) % SIZE\r\n",
    "        queue[rear] = data\r\n",
    "\r\n",
    "def deQueue():\r\n",
    "    global SIZE, queue, front, rear\r\n",
    "    if isQueueEmpty():\r\n",
    "        print('큐가 비었습니다.')\r\n",
    "        return None\r\n",
    "    front = (front + 1) % SIZE\r\n",
    "    data = queue[front]\r\n",
    "    queue[front] = None\r\n",
    "    return data\r\n",
    "\r\n",
    "\r\n",
    "## 전역 변수부\r\n",
    "SIZE = 5\r\n",
    "queue = [None for _ in range(SIZE)]\r\n",
    "front = rear = 0 \r\n",
    "\r\n",
    "## 메인 코드부\r\n",
    "# queue = ['커피', '녹차', '꿀물', '환타', '게토']\r\n",
    "# front = -1\r\n",
    "# rear = 4\r\n",
    "\r\n",
    "enQueue('화사')\r\n",
    "enQueue('솔라')\r\n",
    "enQueue('문별')\r\n",
    "enQueue('휘인')\r\n",
    "print('<--', queue, '<--')\r\n",
    "enQueue('선미')\r\n",
    "# enQueue('재남')\r\n",
    "print('<--', queue, '<--')\r\n",
    "\r\n",
    "data = deQueue() ; print('디큐 : ', data)\r\n",
    "data = deQueue() ; print('디큐 : ', data)\r\n",
    "# data = deQueue() ; print('디큐 : ', data)\r\n",
    "# data = deQueue() ; print('디큐 : ', data)\r\n",
    "# print('<--', queue, '<--')\r\n",
    "enQueue('재남')\r\n",
    "print('<--', queue, '<--')\r\n",
    "enQueue('강아지')\r\n",
    "print('<--', queue, '<--')\r\n",
    "enQueue('고양이')\r\n",
    "print('<--', queue, '<--')"
   ],
   "outputs": [
    {
     "output_type": "stream",
     "name": "stdout",
     "text": [
      "<-- [None, '화사', '솔라', '문별', '휘인'] <--\n",
      "큐가 꽉 찼습니다.\n",
      "<-- [None, '화사', '솔라', '문별', '휘인'] <--\n",
      "디큐 :  화사\n",
      "디큐 :  솔라\n",
      "<-- ['재남', None, None, '문별', '휘인'] <--\n",
      "<-- ['재남', '강아지', None, '문별', '휘인'] <--\n",
      "큐가 꽉 찼습니다.\n",
      "<-- ['재남', '강아지', None, '문별', '휘인'] <--\n"
     ]
    }
   ],
   "metadata": {}
  }
 ],
 "metadata": {
  "orig_nbformat": 4,
  "language_info": {
   "name": "python",
   "version": "3.8.10",
   "mimetype": "text/x-python",
   "codemirror_mode": {
    "name": "ipython",
    "version": 3
   },
   "pygments_lexer": "ipython3",
   "nbconvert_exporter": "python",
   "file_extension": ".py"
  },
  "kernelspec": {
   "name": "python3",
   "display_name": "Python 3.8.10 64-bit ('base': conda)"
  },
  "interpreter": {
   "hash": "d279b99af0f33638fdf09218aa92c162172468f9a92e33e126428ac8a4b3671e"
  }
 },
 "nbformat": 4,
 "nbformat_minor": 2
}