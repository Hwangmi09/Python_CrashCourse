{
  "nbformat": 4,
  "nbformat_minor": 2,
  "metadata": {
    "colab": {
      "name": "02_알고리즘.ipynb",
      "provenance": [],
      "collapsed_sections": []
    },
    "kernelspec": {
      "name": "python3",
      "display_name": "Python 3.8.10 64-bit ('base': conda)"
    },
    "language_info": {
      "name": "python",
      "version": "3.8.10",
      "mimetype": "text/x-python",
      "codemirror_mode": {
        "name": "ipython",
        "version": 3
      },
      "pygments_lexer": "ipython3",
      "nbconvert_exporter": "python",
      "file_extension": ".py"
    },
    "interpreter": {
      "hash": "d279b99af0f33638fdf09218aa92c162172468f9a92e33e126428ac8a4b3671e"
    }
  },
  "cells": [
    {
      "cell_type": "markdown",
      "source": [
        "#  최적의 코딩을 결정하는 기본 알고리즘"
      ],
      "metadata": {
        "id": "_WO01vAh25HP"
      }
    },
    {
      "cell_type": "markdown",
      "source": [
        "## 05. 최단 경로 알고리즘\n",
        "- 가장 짧은 경로를 찾는 알고리즘\n",
        "- 다양한 문제 상황\n",
        "    - 한 지점에서 다른 한 지점까지의 최단 경로\n",
        "    - 한 지점에서 다른 모든 지점까지의 최단 경로\n",
        "    - 모든 지점에서 다른 모든 지점까지의 최단 경로\n",
        "- 각 지점은 그래프에서 노드로 표현\n",
        "- 지점 간 연결된 도로는 그래프에서 간선으로 표현"
      ],
      "metadata": {
        "id": "Zmnpsg_73BRX"
      }
    },
    {
      "cell_type": "markdown",
      "source": [
        "### 05-1. 다익스트라 최단 경로 알고리즘\r\n",
        "- 특정한 노드에서 출발하여 다른 모든 노드로 가는 최단 경로를 계산\r\n",
        "- 음의 간선이 없을 때 정상적으로 동작 (현실 세계의 도로(간선)은 음의 간선으로 표현되지 않음)\r\n",
        "- 그리디 알고리즘으로 분류됨 (매 상황에서 가장 비용이 적은 노드를 선택해 임의의 과정을 반복)\r\n",
        "- 알고리즘 동작 과정\r\n",
        "    1. 출발 노드 설정\r\n",
        "    2. 최단 거리 테이블 초기화\r\n",
        "    3. 방문하지 않은 노드 중에서 최단 거리가 짧은 노드 선택\r\n",
        "    4. 해당 노드를 거쳐 다른 노드로 가는 비용을 계산하여 최단 거리 테이블을 갱신\r\n",
        "    5. 위 과정에서 3번과 4번 반복\r\n",
        "\r\n",
        "\r\n",
        "- 다익스트라 알고리즘의 특징\r\n",
        "    - 그리디 알고리즘 : 매 상황에서 방문하지 않은 가장 비용이 적은 노드를 선택해 임의의 과정을 반복\r\n",
        "    - 단계를 거치며 한 번 처리된 노드의 최단 거리는 고정되어 더 이상 바뀌지 않음 => 한 단계당 하나의 노드에 대한 최단 거리를 확실히 찾는 것으로 이해할 수 있음\r\n",
        "    - 다익스트라 알고리즘을 수행한 뒤에 테이블에 각 노드까지의 최단 거리 정보가 저장됨\r\n",
        "    - 완벽한 형태의 최단 경로를 구하려면 소스코드에 추가적인 기능을 더 넣어야 함\r\n"
      ],
      "metadata": {
        "id": "dqhPc3FX3XjN"
      }
    },
    {
      "cell_type": "code",
      "execution_count": null,
      "source": [
        "INF = int(1e9) # 무한을 의미하는 값으로 10억을 설정\r\n",
        "\r\n",
        "# 노드의 개수, 간선의 개수를 입력받기\r\n",
        "n, m = map(int, input().split())\r\n",
        "# 시작 노드 번호를 입력받기\r\n",
        "start = int(input())\r\n",
        "# 각 노드에 연결되어 있는 노드에 대한 정보를 담는 리스트를 만들기\r\n",
        "graph = [[] for i in range(n + 1)]\r\n",
        "# 방문한 적이 있는지 체크하는 목적의 리스트를 만들기\r\n",
        "visited = [False] * (n + 1)\r\n",
        "# 최단 거리 테이블을 모두 무한으로 초기화\r\n",
        "distance = [INF] * (n + 1)\r\n",
        "\r\n",
        "# 모든 간선 정보를 입력받기\r\n",
        "for _ in range(m):\r\n",
        "    a, b, c = map(int, input().split())\r\n",
        "    # a번 노드에서 b번 노드로 가는 비용이 c라는 의미\r\n",
        "    graph[a].append((b, c))\r\n",
        "\r\n",
        "# 방문하지 않은 노드 중에서, 가장 최단 거리가 짧은 노드의 번호를 반환\r\n",
        "def get_smallest_node():\r\n",
        "    min_value = INF\r\n",
        "    index = 0 # 가장 최단 거리가 짧은 노드(인덱스)\r\n",
        "    for i in range(1, n + 1):\r\n",
        "        if distance[i] < min_value and not visited[i]:\r\n",
        "            min_value = distance[i]\r\n",
        "            index = i\r\n",
        "    return index\r\n",
        "\r\n",
        "def dijkstra(start):\r\n",
        "    # 시작 노드에 대해서 초기화\r\n",
        "    distance[start] = 0\r\n",
        "    visited[start] = True\r\n",
        "    for j in graph[start]:\r\n",
        "        distance[j[0]] = j[1]\r\n",
        "    # 시작 노드를 제외한 전체 n - 1개의 노드에 대해 반복\r\n",
        "    for i in range(n - 1):\r\n",
        "        # 현재 최단 거리가 가장 짧은 노드를 꺼내서, 방문 처리\r\n",
        "        now = get_smallest_node()\r\n",
        "        visited[now] = True\r\n",
        "        # 현재 노드와 연결된 다른 노드를 확인\r\n",
        "        for j in graph[now]:\r\n",
        "            cost = distance[now] + j[1]\r\n",
        "            # 현재 노드를 거쳐서 다른 노드로 이동하는 거리가 더 짧은 경우\r\n",
        "            if cost < distance[j[0]]:\r\n",
        "                distance[j[0]] = cost\r\n",
        "\r\n",
        "# 다익스트라 알고리즘을 수행\r\n",
        "dijkstra(start)\r\n",
        "\r\n",
        "# 모든 노드로 가기 위한 최단 거리를 출력\r\n",
        "for i in range(1, n + 1):\r\n",
        "    # 도달할 수 없는 경우, 무한(INFINITY)이라고 출력\r\n",
        "    if distance[i] == INF:\r\n",
        "        print(\"INFINITY\")\r\n",
        "    # 도달할 수 있는 경우 거리를 출력\r\n",
        "    else:\r\n",
        "        print(distance[i])"
      ],
      "outputs": [],
      "metadata": {
        "id": "thKOeBkT2yJU"
      }
    },
    {
      "cell_type": "markdown",
      "source": [
        "- 간단한 구현 방법 성능\r\n",
        "    - 총 $O(V)$에 걸쳐서 최단 거리가 가장 짧은 노드를 매번 선형 탐색해야 한다.\r\n",
        "    - 따라서 전체 시간 복잡도는 $O(V^2)$이다.\r\n",
        "    - 전체 노드의 개수가 5000개 이하라면 앞의 코드로 문제를 해결할 수 있다. "
      ],
      "metadata": {
        "id": "XYMav0qhCCTL"
      }
    },
    {
      "cell_type": "markdown",
      "source": [
        "- 우선순위 큐(Priority Queue)\r\n",
        "    - 우선순위가 가장 높은 데이터를 가장 먼저 삭제하는 자료구조\r\n",
        "- 힙(Heap)\r\n",
        "    - 우선순위 큐를 구현하기 위해 사용하는 자료구조 중 하나\r\n",
        "    - 최소 힙(Min Heap)과 최대 힙(Max Heap)이 있다.\r\n",
        "    - 다익스트라 최단 경로 알고리즘을 포함해 다양한 알고리즘에서 사용\r\n",
        "    - 삽입/삭제 시간 : $O(logN)$"
      ],
      "metadata": {}
    },
    {
      "cell_type": "code",
      "execution_count": 1,
      "source": [
        "# 힙 라이브러리 사용 예제 : 최소 힙\r\n",
        "import heapq\r\n",
        "\r\n",
        "# 오름차순 힙 정렬(Heap Sort)\r\n",
        "def heapsort(iterable):\r\n",
        "    h = []\r\n",
        "    result = []\r\n",
        "    # 모든 원소를 차례대로 힙에 삽입\r\n",
        "    for value in iterable:\r\n",
        "        heapq.heappush(h, value)\r\n",
        "    # 힙에 삽입된 모든 원소를 차례대로 꺼내어 담기\r\n",
        "    for i in range(len(h)):\r\n",
        "        result.append(heapq.heappop(h))\r\n",
        "    return result\r\n",
        "\r\n",
        "result = heapsort([1, 3, 5, 7, 9, 2, 4, 6, 8, 0])\r\n",
        "print(result)"
      ],
      "outputs": [
        {
          "output_type": "stream",
          "name": "stdout",
          "text": [
            "[0, 1, 2, 3, 4, 5, 6, 7, 8, 9]\n"
          ]
        }
      ],
      "metadata": {
        "id": "EIVv7vMwC69F"
      }
    },
    {
      "cell_type": "code",
      "execution_count": 2,
      "source": [
        "# 힙 라이브러리 사용 예제 : 최대 힙\r\n",
        "import heapq\r\n",
        "\r\n",
        "# 내림차순 힙 정렬(Heap Sort)\r\n",
        "def heapsort(iterable):\r\n",
        "    h = []\r\n",
        "    result = []\r\n",
        "    # 모든 원소를 차례대로 힙에 삽입\r\n",
        "    for value in iterable:\r\n",
        "        heapq.heappush(h, -value)\r\n",
        "    # 힙에 삽입된 모든 원소를 차례대로 꺼내어 담기\r\n",
        "    for i in range(len(h)):\r\n",
        "        result.append(-heapq.heappop(h))\r\n",
        "    return result\r\n",
        "\r\n",
        "result = heapsort([1, 3, 5, 7, 9, 2, 4, 6, 8, 0])\r\n",
        "print(result)"
      ],
      "outputs": [
        {
          "output_type": "stream",
          "name": "stdout",
          "text": [
            "[9, 8, 7, 6, 5, 4, 3, 2, 1, 0]\n"
          ]
        }
      ],
      "metadata": {}
    },
    {
      "cell_type": "markdown",
      "source": [
        "- 개선된 구현 방법\r\n",
        "    - 단계마다 방문하지 않은 노드 중에서 최단 거리가 가장 짧은 노드를 선택하기 위해 힙(Heap) 자료구조를 이용"
      ],
      "metadata": {}
    },
    {
      "cell_type": "code",
      "execution_count": null,
      "source": [
        "  \r\n",
        "import heapq\r\n",
        "INF = int(1e9) # 무한을 의미하는 값으로 10억을 설정\r\n",
        "\r\n",
        "# 노드의 개수, 간선의 개수를 입력받기\r\n",
        "n, m = map(int, input().split())\r\n",
        "# 시작 노드 번호를 입력받기\r\n",
        "start = int(input())\r\n",
        "# 각 노드에 연결되어 있는 노드에 대한 정보를 담는 리스트를 만들기\r\n",
        "graph = [[] for i in range(n + 1)]\r\n",
        "# 최단 거리 테이블을 모두 무한으로 초기화\r\n",
        "distance = [INF] * (n + 1)\r\n",
        "\r\n",
        "# 모든 간선 정보를 입력받기\r\n",
        "for _ in range(m):\r\n",
        "    a, b, c = map(int, input().split())\r\n",
        "    # a번 노드에서 b번 노드로 가는 비용이 c라는 의미\r\n",
        "    graph[a].append((b, c))\r\n",
        "\r\n",
        "def dijkstra(start):\r\n",
        "    q = []\r\n",
        "    # 시작 노드로 가기 위한 최단 경로는 0으로 설정하여, 큐에 삽입\r\n",
        "    heapq.heappush(q, (0, start))\r\n",
        "    distance[start] = 0\r\n",
        "    while q: # 큐가 비어있지 않다면\r\n",
        "        # 가장 최단 거리가 짧은 노드에 대한 정보 꺼내기\r\n",
        "        dist, now = heapq.heappop(q)\r\n",
        "        # 현재 노드가 이미 처리된 적이 있는 노드라면 무시\r\n",
        "        if distance[now] < dist:\r\n",
        "            continue\r\n",
        "        # 현재 노드와 연결된 다른 인접한 노드들을 확인\r\n",
        "        for i in graph[now]:\r\n",
        "            cost = dist + i[1]\r\n",
        "            # 현재 노드를 거쳐서, 다른 노드로 이동하는 거리가 더 짧은 경우\r\n",
        "            if cost < distance[i[0]]:\r\n",
        "                distance[i[0]] = cost\r\n",
        "                heapq.heappush(q, (cost, i[0]))\r\n",
        "\r\n",
        "# 다익스트라 알고리즘을 수행\r\n",
        "dijkstra(start)\r\n",
        "\r\n",
        "# 모든 노드로 가기 위한 최단 거리를 출력\r\n",
        "for i in range(1, n + 1):\r\n",
        "    # 도달할 수 없는 경우, 무한(INFINITY)이라고 출력\r\n",
        "    if distance[i] == INF:\r\n",
        "        print(\"INFINITY\")\r\n",
        "    # 도달할 수 있는 경우 거리를 출력\r\n",
        "    else:\r\n",
        "        print(distance[i])"
      ],
      "outputs": [],
      "metadata": {}
    },
    {
      "cell_type": "markdown",
      "source": [
        "- 개선된 구현 방법 성능 분석\r\n",
        "    -힙 자료구조를 이용하는 다익스트라 알고리즘의 시간 복잡도는 $O(ElogV)$이다.\r\n",
        "    - 노드를 하나씩 꺼내 검사하는 반복문(while문)은 노드의 개수 V 이상의 횟수로는 처리되지 않는다.\r\n",
        "        - 결과적으로 현재 우선순위 큐에서 꺼낸 노드와 연결된 다른 노드들을 확인하는 총횟수는 최대 간선의 개수(E)만큼 연산이 수행될 수 있다.\r\n",
        "    - 직관적으로 전체 과정은 E개의 원소를 우선수위 큐에 넣었다가 뻬내는 연산과 매우 유사하다.\r\n",
        "        - 시간 복잡도를 $O(ElogE)$로 판단할 수 있다.\r\n",
        "        - 중복 간선을 포함하지 않는 경우에 이를 $O(ElogV)$로 정리할 수 있다."
      ],
      "metadata": {}
    },
    {
      "cell_type": "markdown",
      "source": [
        "### 05-2. 플로이드 워셜 알고리즘\r\n",
        "- 모든 노드에서 다른 모든 노드까지의 최단 경로를 모두 계산\r\n",
        "- 다익스트라 알고리즘과 마찬가지로 단계별로 거쳐 가는 노드를 기준으로 알고리즘을 수행하나 매 단계마다 방문하지 않은 노드 중에서 최단 거리를 갖는 노드를 찾는 과정은 필요하지 않음\r\n",
        "- 플로이드 워셜은 2차원 테이블의 최단 거리 정보를 저장\r\n",
        "- 다이나믹 프로그래밍 유형에 속함\r\n",
        "- 각 단계마다 특정한 노드 K를 거쳐 가는 경우를 확인한다.\r\n",
        "    - a에서 b로 가는 최단 거리보다 a에서 k를 거쳐 b로 가는 거리가 더 짧은지 검사합니다.\r\n",
        "- 점화식 : $D_{ab} = min(D_{ab}, D_{ak}+D_{kb})$"
      ],
      "metadata": {}
    },
    {
      "cell_type": "code",
      "execution_count": null,
      "source": [
        "INF = int(1e9) # 무한을 의미하는 값으로 10억을 설정\r\n",
        "\r\n",
        "# 노드의 개수 및 간선의 개수를 입력받기\r\n",
        "n = int(input())\r\n",
        "m = int(input())\r\n",
        "# 2차원 리스트(그래프 표현)를 만들고, 모든 값을 무한으로 초기화\r\n",
        "graph = [[INF] * (n + 1) for _ in range(n + 1)]\r\n",
        "\r\n",
        "# 자기 자신에서 자기 자신으로 가는 비용은 0으로 초기화\r\n",
        "for a in range(1, n + 1):\r\n",
        "    for b in range(1, n + 1):\r\n",
        "        if a == b:\r\n",
        "            graph[a][b] = 0\r\n",
        "\r\n",
        "# 각 간선에 대한 정보를 입력 받아, 그 값으로 초기화\r\n",
        "for _ in range(m):\r\n",
        "    # A에서 B로 가는 비용은 C라고 설정\r\n",
        "    a, b, c = map(int, input().split())\r\n",
        "    graph[a][b] = c\r\n",
        "\r\n",
        "# 점화식에 따라 플로이드 워셜 알고리즘을 수행\r\n",
        "for k in range(1, n + 1):   # 거쳐가는 노드\r\n",
        "    for a in range(1, n + 1): # 출발 노드\r\n",
        "        for b in range(1, n + 1): # 도착 노드\r\n",
        "            graph[a][b] = min(graph[a][b], graph[a][k] + graph[k][b])\r\n",
        "\r\n",
        "# 수행된 결과를 출력\r\n",
        "for a in range(1, n + 1):\r\n",
        "    for b in range(1, n + 1):\r\n",
        "        # 도달할 수 없는 경우, 무한(INFINITY)이라고 출력\r\n",
        "        if graph[a][b] == 1e9:\r\n",
        "            print(\"INFINITY\", end=\" \")\r\n",
        "        # 도달할 수 있는 경우 거리를 출력\r\n",
        "        else:\r\n",
        "            print(graph[a][b], end=\" \")\r\n",
        "    print()"
      ],
      "outputs": [],
      "metadata": {}
    },
    {
      "cell_type": "markdown",
      "source": [
        "- 플로이드 워셜 알고리즘 성능 분석\r\n",
        "    - 노드의 개수가 N개일 때 알고리즘상으로 N번의 단계를 수행합니다.\r\n",
        "        - 각 단계마다 $O(N^2)$의 연산을 통해 현재 노드를 거쳐 가는 모든 경로를 고려합니다.\r\n",
        "    - 따라서 플로이드 워셜 알고리즘의 총 시간 복잡도는 $O(N^3)$입니다.\r\n",
        "    - 전체 노드의 갯수가 최대 500개일 때까지만 사용 가능 => 그 외에는 시간이 매우 오래걸림."
      ],
      "metadata": {}
    },
    {
      "cell_type": "markdown",
      "source": [
        "### 05-3. 벨만 포드 알고리즘 : 비용이 음수인 간선이 있을 때 최단 경로를 구하는 법"
      ],
      "metadata": {}
    },
    {
      "cell_type": "markdown",
      "source": [
        "- 음수 간선에 관한 최단 경로 문제 분류\r\n",
        "    1. 모든 간선이 양수인 경우\r\n",
        "    2. 음수 간선이 있는 경우\r\n",
        "        1. 음수 간선 순환은 없는 경우\r\n",
        "        2. 음수 간선 순환이 있는 경우 (주의)\r\n",
        "- 벨만 포드 최단 경로 알고리즘은 음의 간선이 포함된 상황에서도 사용할 수 있다. 음수 간선의 순환을 감지할 수 있다.\r\n",
        "- 벨만 포드의 기본 시간 복잡도는 $O(VE)$로 다익스트라 알고리즘에 비해 느리다."
      ],
      "metadata": {}
    },
    {
      "cell_type": "markdown",
      "source": [
        "- 벨만 포드 알고리즘 단계\r\n",
        "    1. 출발 노드 설정\r\n",
        "    2. 최단 거리 테이블 초기화\r\n",
        "    3. 다음의 과정을 N-1번 반복\r\n",
        "        1. 전체 간선 E개를 하나씩 확인\r\n",
        "        2. 각 간선을 거쳐 다른 노드로 가는 비용을 계산하여 최단 거리 테이블을 갱신\r\n",
        "- 만약 음수 간선이 순환이 발생하는지 체크하고 싶다면 3번의 과정을 한번 더 수행\r\n",
        "    - 이때 최단 거리 테이블이 갱신된다며 음수 간선 순환이 존재하는 것이다."
      ],
      "metadata": {}
    },
    {
      "cell_type": "markdown",
      "source": [
        "- 벨만 포드 알고리즘 VS 다익스트라 알고리즘\r\n",
        "    - 다익스트라 알고리즘\r\n",
        "        - 매번 방문하지 않은 노드 중에서 최단 거리가 가장 짧은 노드를 선택\r\n",
        "        - 음수 간선이 없다면 최적의 해를 찾을 수 있음\r\n",
        "    - 벨만 포드 알고리즘\r\n",
        "        - 매번 모든 간선을 전부 확인 (다라서 다익스트라 알고리즘에서의 최적의 해를 항상 포함)\r\n",
        "        - 다익스트라 알고리즘에 비해서 시간이 오래 걸리지만 음수 간선 순환을 탐지할 수 있다."
      ],
      "metadata": {}
    },
    {
      "cell_type": "code",
      "execution_count": null,
      "source": [
        "# 노드의 개수, 간선의 개수를 입력받기\r\n",
        "n, m = map(int, input().split())\r\n",
        "# 모든 간선에 대한 정보를 담는 리스트 만들기\r\n",
        "edges = []\r\n",
        "# 최단 거리 테이블을 모두 무한으로 초기화\r\n",
        "distance = [INF] * (n + 1)\r\n",
        "\r\n",
        "# 모든 간선 정보를 입력받기\r\n",
        "for _ in range(m):\r\n",
        "    a, b, c = map(int, input().split())\r\n",
        "    # a번 노드에서 b번 노드로 가는 비용이 c라는 의미\r\n",
        "    edges.append((a, b, c))\r\n",
        "\r\n",
        "def bf(start):\r\n",
        "    # 시작 노드에 대해서 초기화\r\n",
        "    distance[start] = 0\r\n",
        "    # 전체 n - 1번의 라운드(round)를 반복\r\n",
        "    for i in range(n):\r\n",
        "        # 매 반복마다 \"모든 간선\"을 확인하며\r\n",
        "        for j in range(m):\r\n",
        "            cur_node = edges[j][0]\r\n",
        "            next_node = edges[j][1]\r\n",
        "            edge_cost = edges[j][2]\r\n",
        "            # 현재 간선을 거쳐서 다른 노드로 이동하는 거리가 더 짧은 경우\r\n",
        "            if distance[cur_node] != INF and distance[next_node] > distance[cur_node] + edge_cost:\r\n",
        "                distance[next_node] = distance[cur_node] + edge_cost\r\n",
        "                # n번째 라운드에서도 값이 갱신된다면 음수 순환이 존재\r\n",
        "                if i == n - 1:\r\n",
        "                    return True\r\n",
        "    return False\r\n",
        "\r\n",
        "# 벨만 포드 알고리즘을 수행\r\n",
        "negative_cycle = bf(1) # 1번 노드가 시작 노드\r\n",
        "\r\n",
        "if negative_cycle:\r\n",
        "    print(\"-1\")\r\n",
        "else:\r\n",
        "    # 1번 노드를 제외한 다른 모든 노드로 가기 위한 최단 거리를 출력\r\n",
        "    for i in range(2, n + 1):\r\n",
        "        # 도달할 수 없는 경우, -1을 출력\r\n",
        "        if distance[i] == INF:\r\n",
        "            print(\"-1\")\r\n",
        "        # 도달할 수 있는 경우 거리를 출력\r\n",
        "        else:\r\n",
        "            print(distance[i])"
      ],
      "outputs": [],
      "metadata": {}
    },
    {
      "cell_type": "markdown",
      "source": [
        "#### 타임머신 문제\r\n",
        "- https://www.acmicpc.net/problem/11657"
      ],
      "metadata": {}
    }
  ]
}