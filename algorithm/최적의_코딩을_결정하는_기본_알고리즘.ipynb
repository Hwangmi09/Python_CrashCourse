{
  "nbformat": 4,
  "nbformat_minor": 0,
  "metadata": {
    "colab": {
      "name": "최적의_코딩을_결정하는_기본_알고리즘.ipynb",
      "provenance": [],
      "collapsed_sections": [],
      "toc_visible": true
    },
    "kernelspec": {
      "name": "python3",
      "display_name": "Python 3"
    },
    "language_info": {
      "name": "python"
    }
  },
  "cells": [
    {
      "cell_type": "markdown",
      "metadata": {
        "id": "KUn_b0vsSRdb"
      },
      "source": [
        "## 03. 정렬 알고리즘"
      ]
    },
    {
      "cell_type": "markdown",
      "metadata": {
        "id": "TLA0rPYKKru6"
      },
      "source": [
        "### 퀵 정렬\n",
        "- 기준 데이터를 설정하고 그 기준보다 큰 데이터와 작은 데이터의 위치를 바꾸는 방법\n",
        "- 가장 많이 사용되는 정렬 알고리즘 중 하나\n",
        "- 가장 기본적인 퀵 정렬은 첫 번째 데이터를 기준 데이터(pivot)로 설정\n",
        "- 평균의 경우 $O(NlogN)$의 시간 복잡도를 가짐. 최악의 경우 $O(N^2)$의 시간 복잡도를 가짐"
      ]
    },
    {
      "cell_type": "code",
      "metadata": {
        "colab": {
          "base_uri": "https://localhost:8080/"
        },
        "id": "WhxlRgWFKYgg",
        "outputId": "7114c52a-f363-42b8-8011-f543463a5228"
      },
      "source": [
        "array = [5,7,9,0,3,1,6,2,4,8]\n",
        "\n",
        "def quick_sort(array,start,end):\n",
        "    if start >= end:    # 원소가 1개인 경우 종료\n",
        "        return\n",
        "    pivot = start       # 피벗은 첫 번째 원소\n",
        "    left = start + 1\n",
        "    right = end\n",
        "    while (left <= right) :     \n",
        "        while (left <= end and array[left] <= array[pivot]):        # 피벗보다 큰 데이터를 찾을 때까지 반복\n",
        "            left += 1           \n",
        "        while (right > start and array[right] >= array[pivot]):     # 피벗보다 작은 데이터를 찾을 때까지 반복         \n",
        "            right -= 1\n",
        "        if (left > right):      # 엇갈렸다면 작은 데이터와 피벗을 교체\n",
        "            array[right], array[pivot] = array[pivot], array[right]\n",
        "        else:\n",
        "            array[left], array[right] = array[right], array[left]\n",
        "    # 분할 이후 왼쪽 부분과 오른쪽 부분에서 각각 정렬 수행\n",
        "    quick_sort(array, start, right - 1)\n",
        "    quick_sort(array, right+1, end)\n",
        "\n",
        "quick_sort(array, 0, len(array)-1)\n",
        "print(array)"
      ],
      "execution_count": 3,
      "outputs": [
        {
          "output_type": "stream",
          "text": [
            "[0, 1, 2, 3, 4, 5, 6, 7, 8, 9]\n"
          ],
          "name": "stdout"
        }
      ]
    },
    {
      "cell_type": "code",
      "metadata": {
        "colab": {
          "base_uri": "https://localhost:8080/"
        },
        "id": "TCnobvYJP1Lz",
        "outputId": "01f5afd8-3bac-4776-8114-8051c5f1b254"
      },
      "source": [
        "# 파이썬의 장점을 이용하여 퀵 정렬을 더 간단하게 구현할 수 있음. (리스트 슬라이싱, 리스트 표현식 이용)\n",
        "def quick_sort(array):\n",
        "    # 리스트가 하나 이하의 원소만을 담고 있다면 종료\n",
        "    if len(array) <= 1:\n",
        "        return array\n",
        "    pivot = array[0]    # 피벗은 첫 번째 원소\n",
        "    tail = array[1:]    # 피벗을 제외한 리스트\n",
        "\n",
        "    left_side = [x for x in tail if x <= pivot]   #분할된 왼쪽 부분\n",
        "    right_side = [x for x in tail if x > pivot]  # 분할된 오른쪽 부분\n",
        "\n",
        "    # 분할 이후 왼쪽 부분과 오른쪽 부분에서 각각 정렬 수행하고, 전체 리스트 반환\n",
        "    return quick_sort(left_side) + [pivot] + quick_sort(right_side)\n",
        "\n",
        "print(quick_sort(array))"
      ],
      "execution_count": 4,
      "outputs": [
        {
          "output_type": "stream",
          "text": [
            "[0, 1, 2, 3, 4, 5, 6, 7, 8, 9]\n"
          ],
          "name": "stdout"
        }
      ]
    },
    {
      "cell_type": "markdown",
      "metadata": {
        "id": "-g8YP2LqR2Oo"
      },
      "source": [
        "### 계수 정렬\n",
        "- 특정한 조건이 부합할 때만 사용할 수 있지만 매우 빠르게 동작하는 정렬 알고리즘(데이터 크기의 범위가 제한되어 정수 형태로 표현할 수 있을 때 사용 가능)\n",
        "- 데이터의 개수가 N, 데이터(양수) 중 최댓값이 K일 대 최악의 경우에도 수행 시간 $O(N+K)$를 보장\n",
        "- 시간 복잡도와 공간 복잡도 모두 $O(N+K)$\n",
        "- 때에 따라서 심각한 비효율성을 초래할 수 있음\n",
        "- 동일한 값을 가지는 데이터가 여러 개 등장할 때 효과적으로 사용할 수 있음"
      ]
    },
    {
      "cell_type": "code",
      "metadata": {
        "colab": {
          "base_uri": "https://localhost:8080/"
        },
        "id": "xZ7uwM5iRvwW",
        "outputId": "c98ee4ff-7361-4d11-d73c-ab2094921144"
      },
      "source": [
        "# 모든 원소의 값이 0보다 크거나 같다고 가정\n",
        "array = [7,5,9,0,3,1,6,2,9,1,4,8,0,5,2]\n",
        "# 모든 범위를 포함하는 리스트 선언(모든 값은 0으로 초기화)\n",
        "count = [0]*(max(array)+1)\n",
        "\n",
        "for i in range(len(array)):\n",
        "    count[array[i]] += 1    # 각 데이터에 해당하는 인덱스의 값 증가\n",
        "\n",
        "for i in range(len(count)):     # 리스트에 기록된 정렬 정보 확인\n",
        "    for k in range(count[i]):\n",
        "        print(i, end = ' ')     # 띄어쓰기를 구분으로 등장한 횟수만큼 인덱스 출력"
      ],
      "execution_count": 5,
      "outputs": [
        {
          "output_type": "stream",
          "text": [
            "0 0 1 1 2 2 3 4 5 5 6 7 8 9 9 "
          ],
          "name": "stdout"
        }
      ]
    },
    {
      "cell_type": "markdown",
      "metadata": {
        "id": "cOKIb8PNVv03"
      },
      "source": [
        "### <문제> - 두 배열의 원소 교체\n",
        "- 동빈이는 두 개의 배열 A와 B를 가지고 있습니다. 두 배열은 N개의 원소로 구성되어 있으며, 배열의 원소는 모두 자연수입니다.\n",
        "- 동빈이는 최대 K번의 바꿔치기 연산을 수행할 수 있는데, 바꿔치기 연산이란 배열 A에 있는 원소 하나와 배열 B에 있는 원소 하나를 골라서 두 원소를 서로 바꾸는 것을 말합니다.\n",
        "- 동빈이의 최종 목표는 배열 A의 모든 원소의 합이 최대가 되도록 하는 것이며, 여러분은 동빈이를 도와야 합니다.\n",
        "- N, K, 그리고 배열 A와 B의 정보가 주어졌을 때, 최대 K번의 바꿔치기 연산을 수행하여 만들 수 있는 배열 A의 모든 원소의 합의 최댓값을 출력하는 프로그램을 작성하세요."
      ]
    },
    {
      "cell_type": "code",
      "metadata": {
        "colab": {
          "base_uri": "https://localhost:8080/"
        },
        "id": "UV66T-bqYF0z",
        "outputId": "149de3fb-b056-42f7-f64c-d646d7c47679"
      },
      "source": [
        "# N이 100,000까지 가능하므로 최악의 경우 O(NlogN)을 보장하는 표준 정렬 라이브러리를 사용하는 것이 좋음\n",
        "n, k = map(int,input().split())  # n,k를 입력 받기\n",
        "a = list(map(int,input().split()))\n",
        "b = list(map(int,input().split()))\n",
        "\n",
        "a.sort()        # 배열 A는 오름차순 정렬 수행\n",
        "b.sort(reverse=True)        # 배열 B는 내림차순 정렬 수행\n",
        "\n",
        "# 첫 번째 인덱스부터 확인하며, 두 배열의 원소를 최대 K번 비교\n",
        "for i in range(k):\n",
        "    # A의 원소가 B의 언소보다 작은 경우\n",
        "    if a[i] < b[i]:\n",
        "        # 두 원소를 교체\n",
        "        a[i], b[i] = b[i], a[i]\n",
        "    else:   # A의 원소가 B의 원소보다 크거나 같을 때, 반복문을 탈출\n",
        "        break\n",
        "\n",
        "print(sum(a))   # 배열 A의 모든 원소의 합을 출력"
      ],
      "execution_count": 17,
      "outputs": [
        {
          "output_type": "stream",
          "text": [
            "5 3\n",
            "1 2 5 4 3\n",
            "5 5 6 6 5\n",
            "26\n"
          ],
          "name": "stdout"
        }
      ]
    },
    {
      "cell_type": "markdown",
      "metadata": {
        "id": "b1Z4M10ZbXXt"
      },
      "source": [
        "## 04. 그래프 탐색의 기본, DFS와 BFS"
      ]
    },
    {
      "cell_type": "markdown",
      "metadata": {
        "id": "1VEZD8TdmofA"
      },
      "source": [
        "### DFS(Depth-Frist Search)\n",
        "- 깊이 우선 탐색이라고 부르며 그래프에서 깊은 부분을 우선적으로 탐색하는 알고리즘\n",
        "- 스택 자료구조(혹은 재귀 함수)를 이용\n",
        "- 방문 기준 : 번호가 낮은 인접 노드부터\n"
      ]
    },
    {
      "cell_type": "code",
      "metadata": {
        "colab": {
          "base_uri": "https://localhost:8080/"
        },
        "id": "VS5j3YkLa2Hr",
        "outputId": "dc6a4c10-5935-4d52-cc06-235687eb1364"
      },
      "source": [
        "# DFS 메서드 정의\n",
        "def dfs(graph, v, visited):\n",
        "    # 현재 노드를 방문 처리\n",
        "    visited[v] = True\n",
        "    print(v, end = ' ')\n",
        "    # 현재 노드와 연결된 다른 노드를 재귀적으로 방문(재귀 함수 이용)\n",
        "    for i in graph[v]:\n",
        "        if not visited[i]:\n",
        "            dfs(graph, i, visited)\n",
        "\n",
        "# 각 노드가 연결된 정보를 표현 (2차원 리스트)\n",
        "graph = [\n",
        "         [],\n",
        "         [2,3,8],\n",
        "         [1,7],\n",
        "         [1,4,5],\n",
        "         [3,5],\n",
        "         [3,4],\n",
        "         [7],\n",
        "         [2,6,8],\n",
        "         [1,7]\n",
        "]\n",
        "\n",
        "# 각 노드가 방문된 정보를 표현(1차원 리스트)\n",
        "visited = [False] * 9\n",
        "\n",
        "# 정의된 DFS 함수 호출\n",
        "dfs(graph, 1, visited)"
      ],
      "execution_count": 18,
      "outputs": [
        {
          "output_type": "stream",
          "text": [
            "1 2 7 6 8 3 4 5 "
          ],
          "name": "stdout"
        }
      ]
    },
    {
      "cell_type": "markdown",
      "metadata": {
        "id": "NcPzitLvqCPO"
      },
      "source": [
        "### BFS(Breadth-First Search)\n",
        "- 너비 우선 탐색이라고도 부르며, 그래프에서 가까운 노드부터 우선적으로 탐색하는 알고리즘\n",
        "- 큐 자료구조를 이용\n",
        "- 특정 조건에서 최단 경로문제를 해결하기위한 목적으로 사용될 수 있음\n",
        "- 방문 기준 : 번호가 낮은 인접 노드부터\n",
        "- 기업 코딩테스트에서 자주 등장하는 문제 "
      ]
    },
    {
      "cell_type": "code",
      "metadata": {
        "colab": {
          "base_uri": "https://localhost:8080/"
        },
        "id": "GXQhMODypYqy",
        "outputId": "2beb83ad-436a-40d0-c182-1fd01561bbaa"
      },
      "source": [
        "from collections import deque\n",
        "\n",
        "# BFS 메서드 정의\n",
        "def bfs(graph, start, visited):\n",
        "    # 큐(Queue) 구현을 위해 deque 라이브러리 사용\n",
        "    queue = deque([start])\n",
        "    # 현재 노드를 방문 처리\n",
        "    visited[start] = True\n",
        "    # 큐가 빌 때까지 반복\n",
        "    while queue:\n",
        "        # 큐에서 하나의 원소를 뽑아 출력하기\n",
        "        v = queue.popleft()\n",
        "        print(v, end = ' ')\n",
        "        # 아직 방문하지 않은 인접한 원소들을 큐에 삽입\n",
        "        for i in graph[v]:\n",
        "            if not visited[i]:\n",
        "                queue.append(i)\n",
        "                visited[i] = True\n",
        "\n",
        "# 각 노드가 연결된 정보를 표현 (2차원 리스트)\n",
        "graph = [\n",
        "         [],\n",
        "         [2,3,8],\n",
        "         [1,7],\n",
        "         [1,4,5],\n",
        "         [3,5],\n",
        "         [3,4],\n",
        "         [7],\n",
        "         [2,6,8],\n",
        "         [1,7]\n",
        "]\n",
        "\n",
        "# 각 노드가 방문된 정보를 표현(1차원 리스트)\n",
        "visited = [False] * 9\n",
        "\n",
        "bfs(graph, 1, visited)"
      ],
      "execution_count": 21,
      "outputs": [
        {
          "output_type": "stream",
          "text": [
            "1 2 3 8 7 4 5 6 "
          ],
          "name": "stdout"
        }
      ]
    },
    {
      "cell_type": "markdown",
      "metadata": {
        "id": "kIHw6yWYvkQG"
      },
      "source": [
        "### <문제1> - 음료수 얼려 먹기\n",
        "-N X M 크기의 얼음 틀이 있습니다. 구멍이 뚫려 있는 부분은 0, 칸막이가 존재하는 부분은 1로 표시됩니다.<br> 구멍이 뚫려 있는 부분끼리 상, 하, 좌, 우로 붙어 있는 경우 서로 연결되어 있는 것으로 간주합니다.<br> 이때 얼음 틀의 모양이 주어졌을 때 생성되는 총 아이스크림 개수를 구하는 프로그램을 작성하세요."
      ]
    },
    {
      "cell_type": "code",
      "metadata": {
        "colab": {
          "base_uri": "https://localhost:8080/"
        },
        "id": "BMkLZLIctdUh",
        "outputId": "9d9b6b46-d529-4029-fb0d-0fb1a07996eb"
      },
      "source": [
        "# DFS로 특정 노드를 방문하고 연결된 노드들도 방문\n",
        "def dfs(x,y):\n",
        "    # 주어진 범위를 벗어나는 경우에는 즉시 종료\n",
        "    if x <= -1 or x >= n or y <= -1 or y >= m:\n",
        "        return False\n",
        "    # 현재 노드를 아직 방문하지 않았다면\n",
        "    if graph[x][y] == 0:\n",
        "        # 해당 노드 방문 처리\n",
        "        graph[x][y] = 1\n",
        "        # 상, 하, 좌, 우의 위치들도 모두 재귀적으로 호출\n",
        "        dfs(x-1,y)\n",
        "        dfs(x,y-1)\n",
        "        dfs(x+1,y)\n",
        "        dfs(x,y+1)\n",
        "        return True\n",
        "    return False\n",
        "\n",
        "# N, M을 공백을 기준으로 구분하여 입력 받기\n",
        "n, m = map(int,input().split())\n",
        "\n",
        "# 2차원 리스트의 맵 정보 입력 받기\n",
        "graph = []\n",
        "for i in range(n):\n",
        "    graph.append(list(map(int,input())))\n",
        "\n",
        "# 모든 노드(위치)에 대하여 음료수 채우기\n",
        "result = 0\n",
        "for i in range(n):\n",
        "    for j in range(m):\n",
        "        # 현재 위치에서 DFS 수행\n",
        "        if dfs(i,j) == True:\n",
        "            result += 1\n",
        "\n",
        "print(result)"
      ],
      "execution_count": 24,
      "outputs": [
        {
          "output_type": "stream",
          "text": [
            "4 5\n",
            "00110\n",
            "00011\n",
            "11111\n",
            "00000\n",
            "3\n"
          ],
          "name": "stdout"
        }
      ]
    },
    {
      "cell_type": "markdown",
      "metadata": {
        "id": "Mn1v4q5f06Jd"
      },
      "source": [
        "### <문제2> - 미로 탈출\n",
        "- 동빈이는 NXM 크기의 직사각형 형태의 미로에 갇혔습니다. 미로에는 여러 마리의 괴물이 있어 이를 피해 탈출해야 합니다.\n",
        "- 동빈이의 위치는 (1,1)이며 미로의 출구는 (N,M)의 위치에 존재하며 한 번에 한 칸씩 이동할 수 있습니다. 이때 괴물이 있는 부분은 0으로, 괴물이 없는 부분은 1로 표시되어 있습니다. 미로는 반드시 탈출할 수 있는 형태로 제시됩니다.\n",
        "- 이때 동빈이가 탈출하기 위해 움직여야 하는 최소 칸의 개수를 구하세요. 칸을 셀 때는 시작 칸과 마지막 칸을 모두 포함해서 계산합니다.\n",
        "- 입력 조건 : 첫째 줄에 두 정수 N,M(4<=N,M<=200)이 주어집니다. 각각의 수들은 공백 없이 붙어서 입력으로 제시됩니다. 또한 시작칸과 마지막 칸은 항상 1입니다.\n"
      ]
    },
    {
      "cell_type": "code",
      "metadata": {
        "colab": {
          "base_uri": "https://localhost:8080/"
        },
        "id": "2yp4wYLc1gpY",
        "outputId": "27789c13-10ef-4b10-9971-bd906ad5144f"
      },
      "source": [
        "# BFS로 시작 지점에서 가까운 노드부터 차례대로 그래프의 모든 노드를 탐색합니다. \n",
        "from collections import deque\n",
        "\n",
        "# N, M을 공백을 기준으로 구분하여 입력 받기\n",
        "n, m = map(int, input().split())\n",
        "# 2차원 리스트의 맵 정보 입력 받기\n",
        "graph = []\n",
        "for i in range(n):\n",
        "    graph.append(list(map(int, input())))\n",
        "\n",
        "# 이동할 네 가지 방향 정의 (상, 하, 좌, 우)\n",
        "dx = [-1, 1, 0, 0]\n",
        "dy = [0, 0, -1, 1]\n",
        "\n",
        "# BFS 소스코드 구현\n",
        "def bfs(x, y):\n",
        "    # 큐(Queue) 구현을 위해 deque 라이브러리 사용\n",
        "    queue = deque()\n",
        "    queue.append((x, y))\n",
        "    # 큐가 빌 때까지 반복하기\n",
        "    while queue:\n",
        "        x, y = queue.popleft()\n",
        "        # 현재 위치에서 4가지 방향으로의 위치 확인\n",
        "        for i in range(4):\n",
        "            nx = x + dx[i]\n",
        "            ny = y + dy[i]\n",
        "            # 미로 찾기 공간을 벗어난 경우 무시\n",
        "            if nx < 0 or nx >= n or ny < 0 or ny >= m:\n",
        "                continue\n",
        "            # 벽인 경우 무시\n",
        "            if graph[nx][ny] == 0:\n",
        "                continue\n",
        "            # 해당 노드를 처음 방문하는 경우에만 최단 거리 기록\n",
        "            if graph[nx][ny] == 1:\n",
        "                graph[nx][ny] = graph[x][y] + 1\n",
        "                queue.append((nx, ny))\n",
        "    # 가장 오른쪽 아래까지의 최단 거리 반환\n",
        "    return graph[n - 1][m - 1]\n",
        "\n",
        "# BFS를 수행한 결과 출력\n",
        "print(bfs(0, 0))"
      ],
      "execution_count": 25,
      "outputs": [
        {
          "output_type": "stream",
          "text": [
            "5 6\n",
            "101010\n",
            "111111\n",
            "000001\n",
            "111111\n",
            "111111\n",
            "10\n"
          ],
          "name": "stdout"
        }
      ]
    },
    {
      "cell_type": "markdown",
      "metadata": {
        "id": "gyGKJwhU5Ek_"
      },
      "source": [
        "## 05. 최단 경로 알고리즘\n",
        "- 가장 짧은 경로를 찾는 알고리즘\n",
        "- 다양한 문제 상황\n",
        "    - 한 지점에서 다른 한 지점까지의 최단 경로\n",
        "    - 한 지점에서 다른 모든 지점까지의 최단 경로\n",
        "    - 모든 지점에서 다른 모든 지점까지의 최단 경로\n",
        "- 각 지점은 그래프에서 노드로 표현\n",
        "- 지점 간 연결된 도로는 그래프에서 간선으로 표현"
      ]
    },
    {
      "cell_type": "markdown",
      "metadata": {
        "id": "uJepBm0A5nf1"
      },
      "source": [
        "### 다익스트라 최단 경로 알고리즘\n",
        "- 특정한 노드에서 출발하여 다른 모든 노드로 가는 최단 경로를 계산\n",
        "- 음의 간선이 없을 때 정상적으로 동작 (현실 세계의 도로(간선)은 음의 간선으로 표현되지 않음)\n",
        "- 그리디 알고리즘으로 분류됨 (매 상황에서 가장 비용이 적은 노드를 선택해 임의의 과정을 반복)\n",
        "- 알고리즘 동작 과정\n",
        "    - 출발 노드 설정\n",
        "    - 최단 거리 테이블 초기화\n",
        "    - 방문하지 않은 노드 중에서 최단 거리가 짧은 노드 선택\n",
        "    - 해당 노드를 거쳐 다른 노드로 가는 비용을 계산하여 최단 거리 테이블을 갱신\n",
        "    - 위 과정에서 3번과 4번 반복"
      ]
    },
    {
      "cell_type": "code",
      "metadata": {
        "id": "yS_BZYZY2q7k"
      },
      "source": [
        ""
      ],
      "execution_count": null,
      "outputs": []
    }
  ]
}