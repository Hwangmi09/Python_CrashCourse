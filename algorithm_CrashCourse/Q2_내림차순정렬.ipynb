{
 "cells": [
  {
   "cell_type": "code",
   "execution_count": 3,
   "source": [
    "import random\r\n",
    "## 선택 정렬하라.\r\n",
    "def selectionSort(ary):\r\n",
    "    n = len(ary)\r\n",
    "    for i in range(n-1):\r\n",
    "        maxIndex = i\r\n",
    "        for k in range(i+1, n):\r\n",
    "            if ary[maxIndex] < ary[k]:\r\n",
    "                maxIndex = k\r\n",
    "        ary[i], ary[maxIndex] = ary[maxIndex], ary[i]\r\n",
    "    return ary\r\n",
    "\r\n",
    "## -100부터 100까지 숫자를 랜덤하게 30개 만들기\r\n",
    "ary = [random.randint(-100, 100) for _ in range(30)]\r\n",
    "print('정렬 전 --> ', ary)\r\n",
    "## 내림 차순으로 정렬하기.\r\n",
    "print('정렬 후 --> ', selectionSort(ary))"
   ],
   "outputs": [
    {
     "output_type": "stream",
     "name": "stdout",
     "text": [
      "정렬 전 -->  [-60, 8, -5, 26, 20, 25, -45, -19, -17, -94, 48, 75, -100, -67, 31, -47, 71, -77, -87, -86, 28, 66, 50, 94, 45, -77, -32, -18, 47, -90]\n",
      "정렬 후 -->  [94, 75, 71, 66, 50, 48, 47, 45, 31, 28, 26, 25, 20, 8, -5, -17, -18, -19, -32, -45, -47, -60, -67, -77, -77, -86, -87, -90, -94, -100]\n"
     ]
    }
   ],
   "metadata": {}
  }
 ],
 "metadata": {
  "orig_nbformat": 4,
  "language_info": {
   "name": "python",
   "version": "3.8.10",
   "mimetype": "text/x-python",
   "codemirror_mode": {
    "name": "ipython",
    "version": 3
   },
   "pygments_lexer": "ipython3",
   "nbconvert_exporter": "python",
   "file_extension": ".py"
  },
  "kernelspec": {
   "name": "python3",
   "display_name": "Python 3.8.10 64-bit ('base': conda)"
  },
  "interpreter": {
   "hash": "d279b99af0f33638fdf09218aa92c162172468f9a92e33e126428ac8a4b3671e"
  }
 },
 "nbformat": 4,
 "nbformat_minor": 2
}