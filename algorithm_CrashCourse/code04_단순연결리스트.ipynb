{
 "cells": [
  {
   "cell_type": "markdown",
   "source": [
    "# 단순 연결 리스트"
   ],
   "metadata": {}
  },
  {
   "cell_type": "markdown",
   "source": [
    "## 01. 단순 연결 리스트의 개념\r\n",
    "- 노드들이 물리적으로 떨어진 곳에 위치\r\n",
    "- 각 노드의 번지도 순차적이지 않음\r\n",
    "- 화살표로 표시된 연결을 따라가면 선형 리스트 순서와 같음\r\n",
    "- 해당 노드의 앞뒤 링크만 수정하면 되므로 오버헤드가 거의 발생하지 않음\r\n",
    "- 노드 구조 : 데이터와 링크(다음 데이터를 가리킴.)로 구성된 항목"
   ],
   "metadata": {}
  },
  {
   "cell_type": "markdown",
   "source": [
    "## 02. 단순 연결 리스트의 구현"
   ],
   "metadata": {}
  },
  {
   "cell_type": "code",
   "execution_count": 4,
   "source": [
    "class Node():\r\n",
    "    def __init__(self):\r\n",
    "        self.data = None\r\n",
    "        self.link = None"
   ],
   "outputs": [],
   "metadata": {}
  },
  {
   "cell_type": "markdown",
   "source": [
    "- 노드 생성과 연결\r\n",
    "    - 특징 : head만 알면 모든 데이터에 접근이 가능하다.\r\n",
    "\r\n"
   ],
   "metadata": {}
  },
  {
   "cell_type": "code",
   "execution_count": 7,
   "source": [
    "node1 = Node()\r\n",
    "node1.data = '다현' # 노드 생성\r\n",
    "\r\n",
    "node2 = Node()\r\n",
    "node2.data = '정연'\r\n",
    "node1.link = node2 # 노드 연결\r\n",
    "\r\n",
    "node3 = Node()\r\n",
    "node3.data = '쯔위'\r\n",
    "node2.link = node3\r\n",
    "\r\n",
    "node4 = Node()\r\n",
    "node4.data = '사나'\r\n",
    "node3.link = node4\r\n",
    "\r\n",
    "node5 = Node()\r\n",
    "node5.data = '지효'\r\n",
    "node4.link = node5\r\n",
    "\r\n",
    "#print(node1.data, end=' ')\r\n",
    "#print(node1.link.data, end=' ')\r\n",
    "#print(node1.link.link.data, end=' ')\r\n",
    "#print(node1.link.link.link.data, end=' ')\r\n",
    "#print(node1.link.link.link.link.data, end=' ')\r\n",
    "\r\n",
    "current = node1\r\n",
    "print(current.data, end=' ')\r\n",
    "while current.link != None:\r\n",
    "    current = current.link\r\n",
    "    print(current.data, end=' ')"
   ],
   "outputs": [
    {
     "output_type": "stream",
     "name": "stdout",
     "text": [
      "다현 정연 쯔위 사나 지효 "
     ]
    }
   ],
   "metadata": {}
  },
  {
   "cell_type": "markdown",
   "source": [
    "- 단순 연결 리스트의 일반 형태\r\n",
    "    - head : 첫 번째 노드\r\n",
    "    - current : 지금 처리 중인 노드\r\n",
    "    - pre : 현재 처리 중인 노드의 바로 앞 노드"
   ],
   "metadata": {}
  },
  {
   "cell_type": "code",
   "execution_count": 10,
   "source": [
    "## 함수 선언부\r\n",
    "class Node():\r\n",
    "    def __init__(self):\r\n",
    "        self.data = None\r\n",
    "        self.link = None\r\n",
    "\r\n",
    "def printNodes(start):\r\n",
    "    current = start\r\n",
    "    print(current.data, end=' ')\r\n",
    "    while current.link != None:\r\n",
    "        current = current.link\r\n",
    "        print(current.data, end=' ')\r\n",
    "    print()\r\n",
    "\r\n",
    "def insertNode(findData, insertData): # 노드 삽입 함수\r\n",
    "    global memory, head, current, pre # 함수 안에서 전역 변수의 값을 변경하려면 global 키워드를 사용해야 한다.\r\n",
    "    if head.data == findData: # 첫 노드 앞에 삽입\r\n",
    "        node = Node()\r\n",
    "        node.data = insertData\r\n",
    "        node.link = head\r\n",
    "        head = node\r\n",
    "        memory.append(node)\r\n",
    "        return\r\n",
    "\r\n",
    "    current = head # 중간 노드 삽입\r\n",
    "    while current.link != None:\r\n",
    "        pre = current\r\n",
    "        current = current.link\r\n",
    "        if current.data == findData:\r\n",
    "            node = Node()\r\n",
    "            node.data = insertData\r\n",
    "            node.link = current\r\n",
    "            pre.link = node\r\n",
    "            memory.append(node)\r\n",
    "            return\r\n",
    "\r\n",
    "    node = Node() # 마지막 노드에 삽입\r\n",
    "    node.data = insertData\r\n",
    "    current.link = node\r\n",
    "    memory.append(node)\r\n",
    "    return\r\n",
    "\r\n",
    "def deleteNode(deleteData): # 노드 제거 함수\r\n",
    "    global memory, head, current, pre\r\n",
    "    if head.data == deleteData: # 첫 노드 제거\r\n",
    "        current = head\r\n",
    "        head = head.link\r\n",
    "        del current\r\n",
    "        return\r\n",
    "    \r\n",
    "    current = head # 첫 번째 외 노드 제거\r\n",
    "    while current.link != None:\r\n",
    "        pre = current\r\n",
    "        current = current.link\r\n",
    "        if current.data == deleteData:\r\n",
    "            pre.link = current.link\r\n",
    "            del current\r\n",
    "            return\r\n",
    "\r\n",
    "def findNode(findData):\r\n",
    "    global memory, head, current, pre\r\n",
    "    current = head\r\n",
    "    if current.data == findData:\r\n",
    "        return current\r\n",
    "    while current.link != None:\r\n",
    "        current = current.link\r\n",
    "        if current.data == findData:\r\n",
    "            return current\r\n",
    "    return Node() # 빈 노드 반환\r\n",
    "\r\n",
    "\r\n",
    "## 전역 변수부\r\n",
    "memory = [] # 노드를 저장할 공간\r\n",
    "head, current, pre = None, None, None\r\n",
    "dataArray = ['다현', '정연', '쯔위', '사나', '지효']\r\n",
    "\r\n",
    "## 메인 코드부\r\n",
    "node = Node()\r\n",
    "node.data = dataArray[0] # 첫 번째 노드\r\n",
    "head = node # 첫 번째 노드를 head로 지정\r\n",
    "memory.append(node)\r\n",
    "for data in dataArray[1:]: # ['정연', '쯔위', '사나', '지효']\r\n",
    "    pre = node # 기존 노드를 임시 저장\r\n",
    "    node = Node()\r\n",
    "    node.data = data # 새 노드\r\n",
    "    pre.link = node # 기존 노드의 링크\r\n",
    "    memory.append(node)\r\n",
    "printNodes(head)\r\n",
    "\r\n",
    "# insertNode('다현', '화사')\r\n",
    "# printNodes(head)\r\n",
    "# insertNode('사나', '솔라')\r\n",
    "# printNodes(head)\r\n",
    "# insertNode('재남', '문별')\r\n",
    "# printNodes(head)\r\n",
    "\r\n",
    "# deleteNode('다현')\r\n",
    "# printNodes(head)\r\n",
    "# deleteNode('쯔위')\r\n",
    "# printNodes(head)\r\n",
    "# deleteNode('재남')\r\n",
    "# printNodes(head)\r\n",
    "\r\n",
    "findNode('사나')\r\n",
    "findNode('재남')\r\n",
    "findNode('다현')"
   ],
   "outputs": [
    {
     "output_type": "stream",
     "name": "stdout",
     "text": [
      "다현 정연 쯔위 사나 지효 \n",
      "화사 다현 정연 쯔위 사나 지효 \n",
      "화사 다현 정연 쯔위 솔라 사나 지효 \n",
      "화사 다현 정연 쯔위 솔라 사나 지효 문별 \n"
     ]
    }
   ],
   "metadata": {}
  },
  {
   "cell_type": "code",
   "execution_count": null,
   "source": [],
   "outputs": [],
   "metadata": {}
  }
 ],
 "metadata": {
  "orig_nbformat": 4,
  "language_info": {
   "name": "python",
   "version": "3.8.10",
   "mimetype": "text/x-python",
   "codemirror_mode": {
    "name": "ipython",
    "version": 3
   },
   "pygments_lexer": "ipython3",
   "nbconvert_exporter": "python",
   "file_extension": ".py"
  },
  "kernelspec": {
   "name": "python3",
   "display_name": "Python 3.8.10 64-bit ('base': conda)"
  },
  "interpreter": {
   "hash": "d279b99af0f33638fdf09218aa92c162172468f9a92e33e126428ac8a4b3671e"
  }
 },
 "nbformat": 4,
 "nbformat_minor": 2
}