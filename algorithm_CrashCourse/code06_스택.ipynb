{
 "cells": [
  {
   "cell_type": "markdown",
   "source": [
    "# 스택(Stack)"
   ],
   "metadata": {}
  },
  {
   "cell_type": "markdown",
   "source": [
    "## 01. 스택의 개념\r\n",
    "- 스택의 자료구조는 한쪽 끝이 막힌 형태\r\n",
    "- Last In First Out (후입선출, 선입후출)"
   ],
   "metadata": {}
  },
  {
   "cell_type": "markdown",
   "source": [
    "## 02. 스택의 기본 구조\r\n",
    "- 스택에 데이터를 삽입하는 작동 : push\r\n",
    "- 스택에 데이터를 추출하는 작동 : pop\r\n",
    "- 스택에 들어 있는 가장 위의 데이터 : top"
   ],
   "metadata": {}
  },
  {
   "cell_type": "markdown",
   "source": [
    "## 03. 스택의 구현"
   ],
   "metadata": {}
  },
  {
   "cell_type": "markdown",
   "source": [
    "- 스택의 초기화"
   ],
   "metadata": {}
  },
  {
   "cell_type": "code",
   "execution_count": null,
   "source": [
    "stack = [None, None, None, None, None] # 스택의 초기화\r\n",
    "top = -1"
   ],
   "outputs": [],
   "metadata": {}
  },
  {
   "cell_type": "markdown",
   "source": [
    "- 데이터 삽입 : push"
   ],
   "metadata": {}
  },
  {
   "cell_type": "code",
   "execution_count": 1,
   "source": [
    "top += 1\r\n",
    "stack[top] = '커피'\r\n",
    "\r\n",
    "top += 1\r\n",
    "stack[top] = '녹차'\r\n",
    "\r\n",
    "top += 1\r\n",
    "stack[top] = '꿀물'\r\n",
    "\r\n",
    "print(stack)"
   ],
   "outputs": [
    {
     "output_type": "stream",
     "name": "stdout",
     "text": [
      "['커피', '녹차', '꿀물', None, None]\n"
     ]
    }
   ],
   "metadata": {}
  },
  {
   "cell_type": "markdown",
   "source": [
    "- 데이터 추출 : pop"
   ],
   "metadata": {}
  },
  {
   "cell_type": "code",
   "execution_count": 3,
   "source": [
    "data = stack[top]\r\n",
    "stack[top] = None\r\n",
    "top -= 1\r\n",
    "print('pop -->', data)\r\n",
    "\r\n",
    "data = stack[top]\r\n",
    "stack[top] = None\r\n",
    "top -= 1\r\n",
    "print('pop -->', data)\r\n",
    "\r\n",
    "data = stack[top]\r\n",
    "stack[top] = None\r\n",
    "top -= 1\r\n",
    "print('pop -->', data)"
   ],
   "outputs": [
    {
     "output_type": "stream",
     "name": "stdout",
     "text": [
      "pop --> 녹차\n",
      "pop --> 커피\n",
      "pop --> None\n"
     ]
    }
   ],
   "metadata": {}
  },
  {
   "cell_type": "markdown",
   "source": [
    "- 스택의 완성"
   ],
   "metadata": {}
  },
  {
   "cell_type": "code",
   "execution_count": 16,
   "source": [
    "## 함수 선언부\r\n",
    "def isStackFull(): # 스택이 꽉 찼는지 확인하는 함수\r\n",
    "    global SIZE, stack, top\r\n",
    "    if top == SIZE-1:\r\n",
    "        return True\r\n",
    "    else:\r\n",
    "        return False\r\n",
    "\r\n",
    "def push(data):\r\n",
    "    global SIZE, stack, top\r\n",
    "    if isStackFull():\r\n",
    "        print('스택이 꽉 찼습니다.')\r\n",
    "        return\r\n",
    "    top += 1\r\n",
    "    stack[top] = data\r\n",
    "\r\n",
    "def isStackEmpty():\r\n",
    "    global SIZE, stack, top\r\n",
    "    if top == -1:\r\n",
    "        return True\r\n",
    "    else:\r\n",
    "        return False\r\n",
    "\r\n",
    "def pop():\r\n",
    "    global SIZE, stack, top\r\n",
    "    if isStackEmpty():\r\n",
    "        print('스택이 비었습니다.')\r\n",
    "        return None\r\n",
    "    data = stack[top]\r\n",
    "    stack[top] = None\r\n",
    "    top -= 1\r\n",
    "    return data\r\n",
    "\r\n",
    "\r\n",
    "## 전역 변수부\r\n",
    "SIZE = 5\r\n",
    "stack = [None for _ in range(SIZE)]\r\n",
    "top = -1\r\n",
    "\r\n",
    "## 메인 코드부\r\n",
    "# stack = ['커피', '녹차', '꿀물', '콜라', '환타']\r\n",
    "# top = 4\r\n",
    "# isStackFull()\r\n",
    "\r\n",
    "push('커피1')\r\n",
    "push('커피2')\r\n",
    "# push('커피3')\r\n",
    "# push('커피4')\r\n",
    "# push('커피5')\r\n",
    "# push('커피6')\r\n",
    "# print(stack)\r\n",
    "\r\n",
    "data = pop()\r\n",
    "print(data)\r\n",
    "data = pop()\r\n",
    "print(data)\r\n",
    "data = pop()\r\n",
    "print(data)"
   ],
   "outputs": [
    {
     "output_type": "stream",
     "name": "stdout",
     "text": [
      "커피2\n",
      "커피1\n",
      "스택이 비었습니다.\n",
      "None\n"
     ]
    }
   ],
   "metadata": {}
  }
 ],
 "metadata": {
  "orig_nbformat": 4,
  "language_info": {
   "name": "python",
   "version": "3.8.10",
   "mimetype": "text/x-python",
   "codemirror_mode": {
    "name": "ipython",
    "version": 3
   },
   "pygments_lexer": "ipython3",
   "nbconvert_exporter": "python",
   "file_extension": ".py"
  },
  "kernelspec": {
   "name": "python3",
   "display_name": "Python 3.8.10 64-bit ('base': conda)"
  },
  "interpreter": {
   "hash": "d279b99af0f33638fdf09218aa92c162172468f9a92e33e126428ac8a4b3671e"
  }
 },
 "nbformat": 4,
 "nbformat_minor": 2
}