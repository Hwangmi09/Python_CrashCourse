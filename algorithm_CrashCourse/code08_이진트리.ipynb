{
 "cells": [
  {
   "cell_type": "markdown",
   "source": [
    "# 이진 트리"
   ],
   "metadata": {}
  },
  {
   "cell_type": "markdown",
   "source": [
    "## 01. 트리 구조의 개념\r\n",
    "- 회사 사장을 필두로 그 아래 직책들이 구성되어 있는 조직표 또는 컴퓨터의 상위 폴더 안에 하위 폴더들이 계속 이어져 있는 구조와 같은 구성\r\n",
    "- 트리(Tree) 자료구조는 나무를 거꾸로 뒤집어 놓은 형태\r\n",
    "- 트리 자료구조 용어\r\n",
    "    - 루트, 부모노드, 자식노드, 에지, 차수, 리프 노드\r\n"
   ],
   "metadata": {}
  },
  {
   "cell_type": "markdown",
   "source": [
    "## 02. 이진 트리 자료구조\r\n",
    "- 모든 노드의 자식이 최대 2개인 트리(자식이 2개 이하로 구성)\r\n",
    "- 전형적인 이진 트리 : 루트의 왼쪽 서브 트리와 루트의 오른쪽 서브 트리로 구성\r\n",
    "- 이진 트리 종류 : 포화 이진 트리, 완전 이진 트리, 일반 이진 트리, 편향 이진 트리\r\n",
    "- 이진 트리의 노드 구조 : 왼쪽 링크, 데이터, 오른쪽 링크"
   ],
   "metadata": {}
  },
  {
   "cell_type": "markdown",
   "source": [
    "## 03. 이진 트리의 간단 구현"
   ],
   "metadata": {}
  },
  {
   "cell_type": "code",
   "execution_count": 3,
   "source": [
    "class TreeNode():\r\n",
    "    def __init__(self):\r\n",
    "        self.left = None\r\n",
    "        self.data = None\r\n",
    "        self.right = None\r\n",
    "\r\n",
    "node1 = TreeNode()\r\n",
    "node1.data = '화사'\r\n",
    "\r\n",
    "node2 = TreeNode()\r\n",
    "node2.data = '솔라'\r\n",
    "node1.left = node2\r\n",
    "\r\n",
    "node3 = TreeNode()\r\n",
    "node3.data = '문별'\r\n",
    "node1.right = node3\r\n",
    "\r\n",
    "node4 = TreeNode()\r\n",
    "node4.data = '휘인'\r\n",
    "node2.left = node4\r\n",
    "\r\n",
    "node5 = TreeNode()\r\n",
    "node5.data = '쯔위'\r\n",
    "node2.right = node5\r\n",
    "\r\n",
    "node6 = TreeNode()\r\n",
    "node6.data = '선미'\r\n",
    "node3.left = node6\r\n",
    "\r\n",
    "print(node1.data, end=' ')\r\n",
    "print()\r\n",
    "print(node1.left.data, node1.right.data, end=' ')\r\n",
    "print()\r\n",
    "print(node1.left.left.data, node1.left.right.data, node1.right.left.data)"
   ],
   "outputs": [
    {
     "output_type": "stream",
     "name": "stdout",
     "text": [
      "화사 \n",
      "솔라 문별 \n",
      "휘인 쯔위 선미\n"
     ]
    }
   ],
   "metadata": {}
  },
  {
   "cell_type": "markdown",
   "source": [
    "## 04. 이진 탐색 트리\r\n",
    "- 이진 탐색 트리의 특징\r\n",
    "    - 이진 트리 중 활용도가 높은 트리로, **데이터 크기를 기준**으로 일정 형태로 구성함\r\n",
    "    - **root**로 모든 데이터에 접근 가능\r\n",
    "    - 이진 탐색 트리 특징<br>\r\n",
    "    ➊ **왼쪽 서브 트리**는 루트 노드보다 모두 **작은** 값을 가진다.<br>\r\n",
    "    ➋ **오른쪽 서브 트리**는 루트 노드보다 모두 **큰** 값을 가진다.<br>\r\n",
    "    ➌ 각 서브 트리도 ➊, ➋ 특징을 갖는다.<br>\r\n",
    "    ➍ 모든 노드 값은 중복되지 않는다. 즉, 중복된 값은 이진 탐색 트리에 저장할 수 없다.<br>"
   ],
   "metadata": {}
  },
  {
   "cell_type": "markdown",
   "source": [
    "- 이진 탐색트리의 일반 구현"
   ],
   "metadata": {}
  },
  {
   "cell_type": "code",
   "execution_count": 8,
   "source": [
    "## 함수 선언부\r\n",
    "class TreeNode():\r\n",
    "    def __init__(self):\r\n",
    "        self.left = None\r\n",
    "        self.data = None\r\n",
    "        self.right = None\r\n",
    "\r\n",
    "## 전역 변수부\r\n",
    "memory = []\r\n",
    "root = None\r\n",
    "nameAry = ['블랙핑크', '레드벨벳', '마마무', '에이핑크', '걸스데이', '트와이스']\r\n",
    "\r\n",
    "## 메인 코드부\r\n",
    "node = TreeNode()\r\n",
    "node.data = nameAry[0]\r\n",
    "root = node\r\n",
    "memory.append(node)\r\n",
    "\r\n",
    "for name in nameAry[1:]: # ['레드벨벳', '마마무', '에이핑크', '걸스데이', '트와이스']\r\n",
    "    node = TreeNode()\r\n",
    "    node.data = name\r\n",
    "\r\n",
    "    current = root\r\n",
    "    while True:\r\n",
    "        if name < current.data:\r\n",
    "            if current.left == None:\r\n",
    "                current.left = node\r\n",
    "                break\r\n",
    "            else:\r\n",
    "                current = current.left\r\n",
    "        else:\r\n",
    "            if current.right == None:\r\n",
    "                current.right = node\r\n",
    "                break\r\n",
    "            else:\r\n",
    "                current = current.right\r\n",
    "\r\n",
    "    memory.append(node)\r\n",
    "\r\n",
    "print('이진 탐색 트리 구성 완료!')"
   ],
   "outputs": [
    {
     "output_type": "stream",
     "name": "stdout",
     "text": [
      "이진 탐색 트리 구성 완료!\n"
     ]
    }
   ],
   "metadata": {}
  },
  {
   "cell_type": "markdown",
   "source": [
    "- 이진 탐색 트리에서 데이터 검색"
   ],
   "metadata": {}
  },
  {
   "cell_type": "code",
   "execution_count": 12,
   "source": [
    "findData = '바바부'\r\n",
    "current = root\r\n",
    "while True:\r\n",
    "    if current.data == findData:\r\n",
    "        print(findData, '찾았음!')\r\n",
    "        break\r\n",
    "    elif current.data > findData:\r\n",
    "        if current.left == None:\r\n",
    "            print('없다 ㅠ')\r\n",
    "            break\r\n",
    "        current = current.left\r\n",
    "    else:\r\n",
    "        if current.right == None:\r\n",
    "            print('없다 ㅠ')\r\n",
    "            break\r\n",
    "        current = current.right"
   ],
   "outputs": [
    {
     "output_type": "stream",
     "name": "stdout",
     "text": [
      "없다 ㅠ\n"
     ]
    }
   ],
   "metadata": {}
  }
 ],
 "metadata": {
  "orig_nbformat": 4,
  "language_info": {
   "name": "python",
   "version": "3.8.10",
   "mimetype": "text/x-python",
   "codemirror_mode": {
    "name": "ipython",
    "version": 3
   },
   "pygments_lexer": "ipython3",
   "nbconvert_exporter": "python",
   "file_extension": ".py"
  },
  "kernelspec": {
   "name": "python3",
   "display_name": "Python 3.8.10 64-bit ('base': conda)"
  },
  "interpreter": {
   "hash": "d279b99af0f33638fdf09218aa92c162172468f9a92e33e126428ac8a4b3671e"
  }
 },
 "nbformat": 4,
 "nbformat_minor": 2
}