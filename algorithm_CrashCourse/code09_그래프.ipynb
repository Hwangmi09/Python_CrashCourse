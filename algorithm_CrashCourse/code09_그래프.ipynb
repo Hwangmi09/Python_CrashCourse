{
 "cells": [
  {
   "cell_type": "markdown",
   "source": [
    "# 그래프"
   ],
   "metadata": {}
  },
  {
   "cell_type": "markdown",
   "source": [
    "## 01. 그래프의 기본\r\n",
    "- 여러 노드가 서로 연결된 자료구조\r\n",
    "- 정점과 간선으로 구성\r\n",
    "- 트리 구조는 그래프의 특수한 경우\r\n",
    "- 종류 : 무방향 그래프, 방향 그래프, 가중치 그래프\r\n",
    "  - 무방향 그래프 : 간선에 방향성이 없는 그래프\r\n",
    "  - 가중치 그래프 : 간선마다 가중치가 다르게 부여된 그래프\r\n",
    "- 깊이 우선 탐색의 작동\r\n",
    "  - 그래프의 모든 정점을 한 번씩 방문하는 것을 그래프 순회(Graph Traversal)라고 함\r\n",
    "  - 그래프 순회 방식은 깊이 우선 탐색, 너비 우선 탐색이 대표적\r\n",
    "- 그래프의 인접 행렬 표현\r\n",
    "   - 그래프를 코드로 구현할 때는 인접 행렬을 사용\r\n",
    "   - 인접 행렬은 정방형으로 구성된 행렬로 정점이 4개인 그래프는 4×4로 표현\r\n",
    "   - 무방향 그래프의 인접 행렬은 대각선을 기준으로 서로 대칭된다."
   ],
   "metadata": {}
  },
  {
   "cell_type": "markdown",
   "source": [
    "## 02. 그래프의 인접 행렬 구현"
   ],
   "metadata": {}
  },
  {
   "cell_type": "code",
   "execution_count": 5,
   "source": [
    "## 함수 선언부\r\n",
    "class Graph():\r\n",
    "    def __init__(self, size):\r\n",
    "        self.SIZE = size # 정점 개수\r\n",
    "        self.graph = [[0 for _ in range(size)] for _ in range(size)]\r\n",
    "\r\n",
    "## 전역 변수부\r\n",
    "G1 = None\r\n",
    "A, B, C, D = 0, 1, 2, 3\r\n",
    "\r\n",
    "## 메인 코드부\r\n",
    "G1 = Graph(4)\r\n",
    "G1.graph[A][B] = 1 # 정점 A와 연결된 간선 구현 코드\r\n",
    "G1.graph[A][C] = 1\r\n",
    "G1.graph[A][D] = 1\r\n",
    "G1.graph[B][A] = 1\r\n",
    "G1.graph[B][C] = 1\r\n",
    "G1.graph[C][A] = 1\r\n",
    "G1.graph[C][B] = 1\r\n",
    "G1.graph[C][D] = 1\r\n",
    "G1.graph[D][A] = 1\r\n",
    "G1.graph[D][C] = 1\r\n",
    "\r\n",
    "for row in range(4):\r\n",
    "    for col in range(4):\r\n",
    "        print(G1.graph[row][col], end=' ')\r\n",
    "    print()"
   ],
   "outputs": [
    {
     "output_type": "stream",
     "name": "stdout",
     "text": [
      "0 1 1 1 \n",
      "1 0 1 0 \n",
      "1 1 0 1 \n",
      "1 0 1 0 \n"
     ]
    }
   ],
   "metadata": {}
  }
 ],
 "metadata": {
  "orig_nbformat": 4,
  "language_info": {
   "name": "python",
   "version": "3.8.10",
   "mimetype": "text/x-python",
   "codemirror_mode": {
    "name": "ipython",
    "version": 3
   },
   "pygments_lexer": "ipython3",
   "nbconvert_exporter": "python",
   "file_extension": ".py"
  },
  "kernelspec": {
   "name": "python3",
   "display_name": "Python 3.8.10 64-bit ('base': conda)"
  },
  "interpreter": {
   "hash": "d279b99af0f33638fdf09218aa92c162172468f9a92e33e126428ac8a4b3671e"
  }
 },
 "nbformat": 4,
 "nbformat_minor": 2
}