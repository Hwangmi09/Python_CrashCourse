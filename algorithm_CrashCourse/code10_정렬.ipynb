{
 "cells": [
  {
   "cell_type": "markdown",
   "source": [
    "# 정렬\r\n"
   ],
   "metadata": {}
  },
  {
   "cell_type": "markdown",
   "source": [
    "## 01. 정렬의 기본\r\n",
    "- 정렬의 개념\r\n",
    "    - 중요 알고리즘 중 하나인 정렬(Soft)은 자료들을 일정한 순서대로 나열한 것\r\n",
    "- 정렬 알고리즘 종류\r\n",
    "    - 선택 정렬(Selection Sort), 삽입 정렬(Insertion Sort), 버블 정렬(Bubble Sort), 퀵 정렬(Quick Sort) 등"
   ],
   "metadata": {}
  },
  {
   "cell_type": "markdown",
   "source": [
    "## 02. 선택 정렬\r\n",
    "- 선택 정렬의 개념 : 여러 데이터 중에서 가장 작은 값을 뽑는 작동을 반복하여 값을 정렬\r\n",
    "- 최솟값을 찾는 방법\r\n",
    "    1. 배열의 첫 번째 값을 가장 작은 값으로 지정한다.\r\n",
    "    2. 가장 작은 값으로 지정한 값을 다음 차례의 값과 비교하여 가장 작은 값을 변경하거나 그대로 두는 방법으로\r\n",
    "    3. 마지막 값까지 비교를 마친 후 현재 가장 작은 값으로 지정된 값을 가장 작은 값으로 결정한다."
   ],
   "metadata": {}
  },
  {
   "cell_type": "markdown",
   "source": [
    "## 03. 선택 정렬 구현"
   ],
   "metadata": {}
  },
  {
   "cell_type": "code",
   "execution_count": 1,
   "source": [
    "def findMinIndex(ary): # 최솟값 위치 찾는 함수\r\n",
    "    minIndex = 0\r\n",
    "    for i in range(1, len(ary)):\r\n",
    "        if ary[minIndex] > ary[i]:\r\n",
    "            minIndex = i\r\n",
    "        \r\n",
    "    return minIndex\r\n",
    "        \r\n",
    "testAry = [55, 88, 33, 77]\r\n",
    "minPos = findMinIndex(testAry)\r\n",
    "print('최솟값 --> ', testAry[minPos])"
   ],
   "outputs": [
    {
     "output_type": "stream",
     "name": "stdout",
     "text": [
      "최솟값 -->  33\n"
     ]
    }
   ],
   "metadata": {}
  },
  {
   "cell_type": "markdown",
   "source": [
    "- 2개의 리스트를 이용한 선택 정렬의 구현"
   ],
   "metadata": {}
  },
  {
   "cell_type": "code",
   "execution_count": 4,
   "source": [
    "import random\r\n",
    "## 함수 선언부\r\n",
    "def findMinIndex(ary):\r\n",
    "    minIndex = 0\r\n",
    "    for i in range(1, len(ary)):\r\n",
    "        if ary[minIndex] > ary[i]:\r\n",
    "            minIndex = i\r\n",
    "        \r\n",
    "    return minIndex\r\n",
    "\r\n",
    "## 전역 변수부\r\n",
    "before = [random.randint(33, 190) for _ in range(20)]\r\n",
    "after = []\r\n",
    "\r\n",
    "## 메인 코드부\r\n",
    "print('정렬 전 --> ', before)\r\n",
    "# before의 개수만큼 반복\r\n",
    "for _ in range(len(before)):\r\n",
    "    # 가장 작은 위치를 알아내기\r\n",
    "    minPos = findMinIndex(before)   \r\n",
    "    # 가장 작은 값을 after에 넣은 후, before에서는 지우기\r\n",
    "    after.append(before[minPos])\r\n",
    "    del before[minPos]\r\n",
    "\r\n",
    "print('정렬 후 --> ', after)"
   ],
   "outputs": [
    {
     "output_type": "stream",
     "name": "stdout",
     "text": [
      "정렬 전 -->  [85, 122, 34, 131, 70, 34, 65, 42, 152, 106, 63, 175, 163, 118, 52, 76, 87, 79, 165, 158]\n",
      "정렬 후 -->  [34, 34, 42, 52, 63, 65, 70, 76, 79, 85, 87, 106, 118, 122, 131, 152, 158, 163, 165, 175]\n"
     ]
    }
   ],
   "metadata": {}
  },
  {
   "cell_type": "markdown",
   "source": [
    "- 개선된 선택 정렬 구현(실제 사용하는 코드)"
   ],
   "metadata": {}
  },
  {
   "cell_type": "code",
   "execution_count": 5,
   "source": [
    "import random\r\n",
    "## 함수 선언부\r\n",
    "def selectionSort(ary):\r\n",
    "    n = len(ary)\r\n",
    "    for i in range(n-1):\r\n",
    "        minIndex = i\r\n",
    "        for k in range(i+1, n):\r\n",
    "            if ary[minIndex] > ary[k]:\r\n",
    "                minIndex = k\r\n",
    "        ary[i], ary[minIndex] = ary[minIndex], ary[i]\r\n",
    "    return ary\r\n",
    "\r\n",
    "## 전역 변수부\r\n",
    "dataAry = [random.randint(33, 190) for _ in range(20)]\r\n",
    "\r\n",
    "## 메인 코드부\r\n",
    "print('정렬 전 --> ', dataAry)\r\n",
    "dataAry = selectionSort(dataAry)\r\n",
    "print('정렬 후 --> ', dataAry)"
   ],
   "outputs": [
    {
     "output_type": "stream",
     "name": "stdout",
     "text": [
      "정렬 전 -->  [166, 150, 127, 131, 169, 114, 82, 174, 99, 148, 184, 38, 126, 169, 129, 36, 132, 67, 174, 124]\n",
      "정렬 후 -->  [36, 38, 67, 82, 99, 114, 124, 126, 127, 129, 131, 132, 148, 150, 166, 169, 169, 174, 174, 184]\n"
     ]
    }
   ],
   "metadata": {}
  }
 ],
 "metadata": {
  "orig_nbformat": 4,
  "language_info": {
   "name": "python",
   "version": "3.8.10",
   "mimetype": "text/x-python",
   "codemirror_mode": {
    "name": "ipython",
    "version": 3
   },
   "pygments_lexer": "ipython3",
   "nbconvert_exporter": "python",
   "file_extension": ".py"
  },
  "kernelspec": {
   "name": "python3",
   "display_name": "Python 3.8.10 64-bit ('base': conda)"
  },
  "interpreter": {
   "hash": "d279b99af0f33638fdf09218aa92c162172468f9a92e33e126428ac8a4b3671e"
  }
 },
 "nbformat": 4,
 "nbformat_minor": 2
}