{
 "cells": [
  {
   "cell_type": "markdown",
   "source": [
    "# 검색"
   ],
   "metadata": {}
  },
  {
   "cell_type": "markdown",
   "source": [
    "## 01. 검색의 기본\r\n",
    "- '검색’은 정렬된 상태에서 빠르게 원하는 것을 찾을 수 있음\r\n",
    "- 검색의 개념 : 어떤 집합에서 원하는 것을 찾는 것으로, 탐색이라고도 함\r\n",
    "- 검색에 실패하면 -1을 반환하는 것이 일반적\r\n",
    "- 검색의 종류 : 순차 검색, 이진 검색, 트리 검색 등\r\n",
    "    - 순차 검색\r\n",
    "        - 검색할 집합이 정렬되어 있지 않은 상태일 때\r\n",
    "        - 처음부터 차례대로 찾아보는 것으로, 쉽지만 비효율적임\r\n",
    "        - 집합의 데이터가 정렬되어 있지 않다면 이 검색 외에 특별한 방법 없음\r\n",
    "    - 이진 검색(권장)\r\n",
    "        - 데이터가 정렬되어 있다면 이진 검색도 사용 가능\r\n",
    "        - 순차 검색에 비해 월등히 효율적이라 데이터가 몇 천만 개 이상이어도 빠르게 찾아낼 수 있음\r\n",
    "    - 트리 검색\r\n",
    "        - 데이터 검색에는 상당히 효율적이지만 트리의 삽입, 삭제 등에는 부담\r\n",
    "\r\n"
   ],
   "metadata": {}
  },
  {
   "cell_type": "markdown",
   "source": [
    "## 02. 이진 검색 알고리즘의 원리\r\n",
    "- 이진 검색은 전체를 반씩 잘라 내서 한쪽을 버리는 방식을 사용\r\n",
    "- 시작, 중앙, 끝으로 구성\r\n",
    "    - 찾는 값이 중앙값보다 크면 시작을 중앙의 오른쪽 옆으로 이동\r\n",
    "    - 찾는 값이 중앙값보다 작으면 끝을 중앙의 왼쪽 옆으로 이동\r\n",
    "    - 만약에 이진 검색을 하는 과정에서 시작과 끝이 교차하는 경우는 찾는 값이 없는 경우이다. => 이진 탐색 검색 실패"
   ],
   "metadata": {}
  },
  {
   "cell_type": "markdown",
   "source": [
    "## 03. 이진 검색 알고리즘 구현"
   ],
   "metadata": {}
  },
  {
   "cell_type": "code",
   "execution_count": 6,
   "source": [
    "## 함수 선언부\r\n",
    "def binarySearch(ary, fdata):\r\n",
    "    pos = -1\r\n",
    "    start = 0 # 시작\r\n",
    "    end = len(ary) - 1 # 끝\r\n",
    "    while start <= end:\r\n",
    "        mid = (start + end) // 2\r\n",
    "        if ary[mid] == fdata:\r\n",
    "            return mid\r\n",
    "        elif ary[mid] < fdata:\r\n",
    "            start = mid + 1\r\n",
    "        else:\r\n",
    "            end = mid - 1\r\n",
    "    return pos\r\n",
    "\r\n",
    "## 전역 변수부\r\n",
    "dataAry = [50, 60, 105, 120, 150, 160, 162, 168, 177, 188]\r\n",
    "findData = 105\r\n",
    "\r\n",
    "## 메인 코드부\r\n",
    "print('배열 --> ', dataAry)\r\n",
    "position = binarySearch(dataAry, findData)\r\n",
    "if position == -1:\r\n",
    "    print('못 찾음 ..')\r\n",
    "else:\r\n",
    "    print(findData, '는 ', position, '위치에 있음')"
   ],
   "outputs": [
    {
     "output_type": "stream",
     "name": "stdout",
     "text": [
      "배열 -->  [50, 60, 105, 120, 150, 160, 162, 168, 177, 188]\n",
      "105 는  2 위치에 있음\n"
     ]
    }
   ],
   "metadata": {}
  }
 ],
 "metadata": {
  "orig_nbformat": 4,
  "language_info": {
   "name": "python",
   "version": "3.8.10",
   "mimetype": "text/x-python",
   "codemirror_mode": {
    "name": "ipython",
    "version": 3
   },
   "pygments_lexer": "ipython3",
   "nbconvert_exporter": "python",
   "file_extension": ".py"
  },
  "kernelspec": {
   "name": "python3",
   "display_name": "Python 3.8.10 64-bit ('base': conda)"
  },
  "interpreter": {
   "hash": "d279b99af0f33638fdf09218aa92c162172468f9a92e33e126428ac8a4b3671e"
  }
 },
 "nbformat": 4,
 "nbformat_minor": 2
}