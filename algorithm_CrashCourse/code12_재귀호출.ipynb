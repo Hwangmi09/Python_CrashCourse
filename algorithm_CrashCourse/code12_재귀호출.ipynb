{
 "cells": [
  {
   "cell_type": "markdown",
   "source": [
    "# 재귀 호출"
   ],
   "metadata": {}
  },
  {
   "cell_type": "markdown",
   "source": [
    "## 01. 재귀 호출의 기본\r\n",
    "- 재귀 호출의 개념 : 재귀 호출(Recursion)은 자신을 다시 호출하는 것 "
   ],
   "metadata": {}
  },
  {
   "cell_type": "markdown",
   "source": [
    "## 02. 재귀 호출 구현"
   ],
   "metadata": {}
  },
  {
   "cell_type": "markdown",
   "source": [
    "- 상자를 반복해서 열기"
   ],
   "metadata": {}
  },
  {
   "cell_type": "code",
   "execution_count": 3,
   "source": [
    "## 함수 선언부\r\n",
    "def openBox():\r\n",
    "    global count\r\n",
    "    print('상자 열기 ~~~')\r\n",
    "    count -= 1\r\n",
    "    if count == 0:\r\n",
    "        print('**선물 넣기**')\r\n",
    "        return\r\n",
    "    openBox()\r\n",
    "    print('~~~ 상자 닫기')\r\n",
    "\r\n",
    "## 전역 변수부\r\n",
    "count = 5\r\n",
    "\r\n",
    "## 메인 코드부\r\n",
    "openBox()"
   ],
   "outputs": [
    {
     "output_type": "stream",
     "name": "stdout",
     "text": [
      "상자 열기 ~~~\n",
      "상자 열기 ~~~\n",
      "상자 열기 ~~~\n",
      "상자 열기 ~~~\n",
      "상자 열기 ~~~\n",
      "**선물 넣기**\n",
      "~~~ 상자 닫기\n",
      "~~~ 상자 닫기\n",
      "~~~ 상자 닫기\n",
      "~~~ 상자 닫기\n"
     ]
    }
   ],
   "metadata": {}
  },
  {
   "cell_type": "markdown",
   "source": [
    "- 숫자 합계 내기(1부터 10까지 합계를 구하는 예)"
   ],
   "metadata": {}
  },
  {
   "cell_type": "code",
   "execution_count": 5,
   "source": [
    "## 함수 선언부\r\n",
    "def addNumber(num):\r\n",
    "    if num <= 1:\r\n",
    "        return 1\r\n",
    "    return num + addNumber(num-1)\r\n",
    "\r\n",
    "## 메인 코드부\r\n",
    "print(addNumber(10))"
   ],
   "outputs": [
    {
     "output_type": "stream",
     "name": "stdout",
     "text": [
      "55\n"
     ]
    }
   ],
   "metadata": {}
  },
  {
   "cell_type": "markdown",
   "source": [
    "- 우주선 발사 카운트다운"
   ],
   "metadata": {}
  },
  {
   "cell_type": "code",
   "execution_count": 29,
   "source": [
    "def countDown(n):\r\n",
    "    if n < 1:\r\n",
    "        print('발사!!')\r\n",
    "        return\r\n",
    "    else:\r\n",
    "        print(n)\r\n",
    "        countDown(n-1)\r\n",
    "\r\n",
    "countDown(5)"
   ],
   "outputs": [
    {
     "output_type": "stream",
     "name": "stdout",
     "text": [
      "5\n",
      "4\n",
      "3\n",
      "2\n",
      "1\n",
      "발사!!\n"
     ]
    }
   ],
   "metadata": {}
  },
  {
   "cell_type": "markdown",
   "source": [
    "- 팩토리얼 구하기(10부터 1까지 곱하는 예)"
   ],
   "metadata": {}
  },
  {
   "cell_type": "code",
   "execution_count": 28,
   "source": [
    "def factorial(n):\r\n",
    "    if n == 1:\r\n",
    "        return 1\r\n",
    "    return n*factorial(n-1)\r\n",
    "\r\n",
    "factorial(10)"
   ],
   "outputs": [
    {
     "output_type": "execute_result",
     "data": {
      "text/plain": [
       "3628800"
      ]
     },
     "metadata": {},
     "execution_count": 28
    }
   ],
   "metadata": {}
  },
  {
   "cell_type": "markdown",
   "source": [
    "- 별 모양 출력하기"
   ],
   "metadata": {}
  },
  {
   "cell_type": "code",
   "execution_count": 26,
   "source": [
    "def star(n):\r\n",
    "    if n > 0:\r\n",
    "        star(n-1)\r\n",
    "        print('★'*n)\r\n",
    "\r\n",
    "star(5)"
   ],
   "outputs": [
    {
     "output_type": "stream",
     "name": "stdout",
     "text": [
      "★\n",
      "★★\n",
      "★★★\n",
      "★★★★\n",
      "★★★★★\n"
     ]
    }
   ],
   "metadata": {}
  },
  {
   "cell_type": "markdown",
   "source": [
    "- 구구단 출력하기"
   ],
   "metadata": {}
  },
  {
   "cell_type": "code",
   "execution_count": 17,
   "source": [
    "def gugu(dan, num):\r\n",
    "    print('%d x %d = %d' % (dan, num, dan*num))\r\n",
    "    if num < 9:\r\n",
    "        return gugu(dan, num+1)\r\n",
    "\r\n",
    "for dan in range(2, 3):\r\n",
    "    print('## %d단 ##' % dan)\r\n",
    "    gugu(dan, 1)\r\n"
   ],
   "outputs": [
    {
     "output_type": "stream",
     "name": "stdout",
     "text": [
      "## 2단 ##\n",
      "2 x 1 = 2\n",
      "2 x 2 = 4\n",
      "2 x 3 = 6\n",
      "2 x 4 = 8\n",
      "2 x 5 = 10\n",
      "2 x 6 = 12\n",
      "2 x 7 = 14\n",
      "2 x 8 = 16\n",
      "2 x 9 = 18\n"
     ]
    }
   ],
   "metadata": {}
  },
  {
   "cell_type": "markdown",
   "source": [
    "- N제곱 계산하기"
   ],
   "metadata": {}
  },
  {
   "cell_type": "code",
   "execution_count": 23,
   "source": [
    "def pow(x, n):\r\n",
    "    if n == 0:\r\n",
    "        return 1\r\n",
    "    return x*pow(x, n-1)\r\n",
    "pow(2, 4)"
   ],
   "outputs": [
    {
     "output_type": "execute_result",
     "data": {
      "text/plain": [
       "16"
      ]
     },
     "metadata": {},
     "execution_count": 23
    }
   ],
   "metadata": {}
  },
  {
   "cell_type": "markdown",
   "source": [
    "- 배열의 합 계산하기"
   ],
   "metadata": {}
  },
  {
   "cell_type": "code",
   "execution_count": 33,
   "source": [
    "import random\r\n",
    "\r\n",
    "def arySum(ary, n):\r\n",
    "    if n == 0:\r\n",
    "        return ary[n]\r\n",
    "    return ary[n] + arySum(ary, n-1)\r\n",
    "\r\n",
    "ary = [i for i in range(1, 6)]\r\n",
    "print(ary)\r\n",
    "print('배열 합계 --> ', arySum(ary, len(ary)-1))"
   ],
   "outputs": [
    {
     "output_type": "stream",
     "name": "stdout",
     "text": [
      "[1, 2, 3, 4, 5]\n",
      "배열 합계 -->  15\n"
     ]
    }
   ],
   "metadata": {}
  }
 ],
 "metadata": {
  "orig_nbformat": 4,
  "language_info": {
   "name": "python",
   "version": "3.8.10",
   "mimetype": "text/x-python",
   "codemirror_mode": {
    "name": "ipython",
    "version": 3
   },
   "pygments_lexer": "ipython3",
   "nbconvert_exporter": "python",
   "file_extension": ".py"
  },
  "kernelspec": {
   "name": "python3",
   "display_name": "Python 3.8.10 64-bit ('base': conda)"
  },
  "interpreter": {
   "hash": "d279b99af0f33638fdf09218aa92c162172468f9a92e33e126428ac8a4b3671e"
  }
 },
 "nbformat": 4,
 "nbformat_minor": 2
}